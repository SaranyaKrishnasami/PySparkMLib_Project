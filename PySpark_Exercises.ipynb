{
  "nbformat": 4,
  "nbformat_minor": 0,
  "metadata": {
    "colab": {
      "provenance": [],
      "collapsed_sections": [
        "WvspUdRKy_tK"
      ],
      "mount_file_id": "16n-mJSCCAec6l-lAz01hIDRK_OV0UQ3l",
      "authorship_tag": "ABX9TyO012n/IwPei683ZMY2fbkj",
      "include_colab_link": true
    },
    "kernelspec": {
      "name": "python3",
      "display_name": "Python 3"
    },
    "language_info": {
      "name": "python"
    }
  },
  "cells": [
    {
      "cell_type": "markdown",
      "metadata": {
        "id": "view-in-github",
        "colab_type": "text"
      },
      "source": [
        "<a href=\"https://colab.research.google.com/github/SaranyaKrishnasami/PySparkMLib_Project/blob/main/PySpark_Exercises.ipynb\" target=\"_parent\"><img src=\"https://colab.research.google.com/assets/colab-badge.svg\" alt=\"Open In Colab\"/></a>"
      ]
    },
    {
      "cell_type": "code",
      "execution_count": 2,
      "metadata": {
        "colab": {
          "base_uri": "https://localhost:8080/"
        },
        "id": "B-8VSXpayUpA",
        "outputId": "783137a9-bd24-49de-8030-9d9126d692db"
      },
      "outputs": [
        {
          "output_type": "stream",
          "name": "stdout",
          "text": [
            "Collecting pyspark\n",
            "  Downloading pyspark-3.5.1.tar.gz (317.0 MB)\n",
            "\u001b[2K     \u001b[90m━━━━━━━━━━━━━━━━━━━━━━━━━━━━━━━━━━━━━━━━\u001b[0m \u001b[32m317.0/317.0 MB\u001b[0m \u001b[31m4.5 MB/s\u001b[0m eta \u001b[36m0:00:00\u001b[0m\n",
            "\u001b[?25h  Preparing metadata (setup.py) ... \u001b[?25l\u001b[?25hdone\n",
            "Requirement already satisfied: py4j==0.10.9.7 in /usr/local/lib/python3.10/dist-packages (from pyspark) (0.10.9.7)\n",
            "Building wheels for collected packages: pyspark\n",
            "  Building wheel for pyspark (setup.py) ... \u001b[?25l\u001b[?25hdone\n",
            "  Created wheel for pyspark: filename=pyspark-3.5.1-py2.py3-none-any.whl size=317488493 sha256=a64f8cc44c1393cd87d736ecfd3de03e9319905f1349737f2aed30ddbdf956f1\n",
            "  Stored in directory: /root/.cache/pip/wheels/80/1d/60/2c256ed38dddce2fdd93be545214a63e02fbd8d74fb0b7f3a6\n",
            "Successfully built pyspark\n",
            "Installing collected packages: pyspark\n",
            "Successfully installed pyspark-3.5.1\n"
          ]
        }
      ],
      "source": [
        "!pip install pyspark"
      ]
    },
    {
      "cell_type": "markdown",
      "source": [
        "# Creating Spark session and creating a Sparkcontext to work on the california dataset\n",
        "\n",
        "\n",
        "*  Creating dataframe from the dataset with header\n",
        "*  Creating customr schema using (StructField,StringType,IntegerType, DecimalType ,StringType , StructType)\n",
        "\n"
      ],
      "metadata": {
        "id": "WvspUdRKy_tK"
      }
    },
    {
      "cell_type": "code",
      "source": [
        "from pyspark.sql  import SparkSession"
      ],
      "metadata": {
        "id": "SPl1vaw0x3Mg"
      },
      "execution_count": 3,
      "outputs": []
    },
    {
      "cell_type": "code",
      "source": [
        "SparkSession = SparkSession.builder.appName(\"SparkMLDemo\").getOrCreate()"
      ],
      "metadata": {
        "id": "qSkP6LuiR-T0"
      },
      "execution_count": 4,
      "outputs": []
    },
    {
      "cell_type": "code",
      "source": [
        "df = SparkSession.read.option('header','true').csv('/content/sample_data/california_housing_train.csv')"
      ],
      "metadata": {
        "id": "YnIztEvTT2XN"
      },
      "execution_count": 5,
      "outputs": []
    },
    {
      "cell_type": "code",
      "source": [
        "df1 = SparkSession.read.csv('/content/sample_data/california_housing_train.csv' , inferSchema=True, header=True)"
      ],
      "metadata": {
        "id": "SDJ53td1bXUI"
      },
      "execution_count": 6,
      "outputs": []
    },
    {
      "cell_type": "code",
      "source": [
        "# Activity to clarify schema\n",
        "from pyspark.sql.types import (StructField,StringType,IntegerType, DecimalType ,StringType , StructType)\n",
        "data_schema = [StructField('longitude' ,DecimalType() , True  ) ,\n",
        "               StructField('latitude' ,DecimalType() , True  ) ,\n",
        "               StructField('housing_median_age' , DecimalType() , True),\n",
        "               StructField('total_rooms',DecimalType() , True  ) ,\n",
        "               StructField('total_bedrooms',DecimalType() , True  ) ,\n",
        "               StructField('population',DecimalType() , True  ) ,\n",
        "               StructField('households',DecimalType() , True  ) ,\n",
        "               StructField('median_income',DecimalType() , True  ) ,\n",
        "               StructField('median_house_value',DecimalType() , True  ) ]\n",
        "final_struct = StructType(fields=data_schema)"
      ],
      "metadata": {
        "id": "R1TG2FMJqfaK"
      },
      "execution_count": 7,
      "outputs": []
    },
    {
      "cell_type": "code",
      "source": [
        "df2 = SparkSession.read.csv(\"/content/sample_data/california_housing_train.csv\", schema= final_struct)"
      ],
      "metadata": {
        "id": "dNATRLqrqgpM"
      },
      "execution_count": 8,
      "outputs": []
    },
    {
      "cell_type": "code",
      "source": [
        "df2.printSchema()"
      ],
      "metadata": {
        "colab": {
          "base_uri": "https://localhost:8080/"
        },
        "id": "SLKT9mOYqybb",
        "outputId": "ff91b0fa-cbbd-4bbc-b139-677928259de5"
      },
      "execution_count": 9,
      "outputs": [
        {
          "output_type": "stream",
          "name": "stdout",
          "text": [
            "root\n",
            " |-- longitude: decimal(10,0) (nullable = true)\n",
            " |-- latitude: decimal(10,0) (nullable = true)\n",
            " |-- housing_median_age: decimal(10,0) (nullable = true)\n",
            " |-- total_rooms: decimal(10,0) (nullable = true)\n",
            " |-- total_bedrooms: decimal(10,0) (nullable = true)\n",
            " |-- population: decimal(10,0) (nullable = true)\n",
            " |-- households: decimal(10,0) (nullable = true)\n",
            " |-- median_income: decimal(10,0) (nullable = true)\n",
            " |-- median_house_value: decimal(10,0) (nullable = true)\n",
            "\n"
          ]
        }
      ]
    },
    {
      "cell_type": "code",
      "source": [
        "df.show(10)"
      ],
      "metadata": {
        "colab": {
          "base_uri": "https://localhost:8080/"
        },
        "id": "IEezoDrkZzWi",
        "outputId": "88244d53-9546-4a4b-8f92-f9f046537bfd"
      },
      "execution_count": 10,
      "outputs": [
        {
          "output_type": "stream",
          "name": "stdout",
          "text": [
            "+-----------+---------+------------------+-----------+--------------+-----------+-----------+-------------+------------------+\n",
            "|  longitude| latitude|housing_median_age|total_rooms|total_bedrooms| population| households|median_income|median_house_value|\n",
            "+-----------+---------+------------------+-----------+--------------+-----------+-----------+-------------+------------------+\n",
            "|-114.310000|34.190000|         15.000000|5612.000000|   1283.000000|1015.000000| 472.000000|     1.493600|      66900.000000|\n",
            "|-114.470000|34.400000|         19.000000|7650.000000|   1901.000000|1129.000000| 463.000000|     1.820000|      80100.000000|\n",
            "|-114.560000|33.690000|         17.000000| 720.000000|    174.000000| 333.000000| 117.000000|     1.650900|      85700.000000|\n",
            "|-114.570000|33.640000|         14.000000|1501.000000|    337.000000| 515.000000| 226.000000|     3.191700|      73400.000000|\n",
            "|-114.570000|33.570000|         20.000000|1454.000000|    326.000000| 624.000000| 262.000000|     1.925000|      65500.000000|\n",
            "|-114.580000|33.630000|         29.000000|1387.000000|    236.000000| 671.000000| 239.000000|     3.343800|      74000.000000|\n",
            "|-114.580000|33.610000|         25.000000|2907.000000|    680.000000|1841.000000| 633.000000|     2.676800|      82400.000000|\n",
            "|-114.590000|34.830000|         41.000000| 812.000000|    168.000000| 375.000000| 158.000000|     1.708300|      48500.000000|\n",
            "|-114.590000|33.610000|         34.000000|4789.000000|   1175.000000|3134.000000|1056.000000|     2.178200|      58400.000000|\n",
            "|-114.600000|34.830000|         46.000000|1497.000000|    309.000000| 787.000000| 271.000000|     2.190800|      48100.000000|\n",
            "+-----------+---------+------------------+-----------+--------------+-----------+-----------+-------------+------------------+\n",
            "only showing top 10 rows\n",
            "\n"
          ]
        }
      ]
    },
    {
      "cell_type": "code",
      "source": [
        "df.printSchema()"
      ],
      "metadata": {
        "colab": {
          "base_uri": "https://localhost:8080/"
        },
        "id": "HdMsvjbFZ6R3",
        "outputId": "c24d2f57-1361-4d87-cddc-2bfca6f3b160"
      },
      "execution_count": 11,
      "outputs": [
        {
          "output_type": "stream",
          "name": "stdout",
          "text": [
            "root\n",
            " |-- longitude: string (nullable = true)\n",
            " |-- latitude: string (nullable = true)\n",
            " |-- housing_median_age: string (nullable = true)\n",
            " |-- total_rooms: string (nullable = true)\n",
            " |-- total_bedrooms: string (nullable = true)\n",
            " |-- population: string (nullable = true)\n",
            " |-- households: string (nullable = true)\n",
            " |-- median_income: string (nullable = true)\n",
            " |-- median_house_value: string (nullable = true)\n",
            "\n"
          ]
        }
      ]
    },
    {
      "cell_type": "code",
      "source": [
        "df.columns"
      ],
      "metadata": {
        "colab": {
          "base_uri": "https://localhost:8080/"
        },
        "id": "a6Nm4ZY5mvNz",
        "outputId": "0f5288eb-ae11-456c-9860-956b209ed3f1"
      },
      "execution_count": 12,
      "outputs": [
        {
          "output_type": "execute_result",
          "data": {
            "text/plain": [
              "['longitude',\n",
              " 'latitude',\n",
              " 'housing_median_age',\n",
              " 'total_rooms',\n",
              " 'total_bedrooms',\n",
              " 'population',\n",
              " 'households',\n",
              " 'median_income',\n",
              " 'median_house_value']"
            ]
          },
          "metadata": {},
          "execution_count": 12
        }
      ]
    },
    {
      "cell_type": "code",
      "source": [
        "# Statistics\n",
        "df.describe().show()"
      ],
      "metadata": {
        "colab": {
          "base_uri": "https://localhost:8080/"
        },
        "id": "3xeMtj3hmVmV",
        "outputId": "52f314dd-5cb7-4d15-b684-b6940df761c6"
      },
      "execution_count": 13,
      "outputs": [
        {
          "output_type": "stream",
          "name": "stdout",
          "text": [
            "+-------+-------------------+------------------+------------------+-----------------+-----------------+------------------+-----------------+------------------+------------------+\n",
            "|summary|          longitude|          latitude|housing_median_age|      total_rooms|   total_bedrooms|        population|       households|     median_income|median_house_value|\n",
            "+-------+-------------------+------------------+------------------+-----------------+-----------------+------------------+-----------------+------------------+------------------+\n",
            "|  count|              17000|             17000|             17000|            17000|            17000|             17000|            17000|             17000|             17000|\n",
            "|   mean|-119.56210823529375|  35.6252247058827| 28.58935294117647|2643.664411764706|539.4108235294118|1429.5739411764705|501.2219411764706| 3.883578100000021|207300.91235294117|\n",
            "| stddev| 2.0051664084260357|2.1373397946570867|12.586936981660406|2179.947071452777|421.4994515798648| 1147.852959159527|384.5208408559016|1.9081565183791036|115983.76438720895|\n",
            "|    min|        -114.310000|         32.540000|          1.000000|      1000.000000|         1.000000|        100.000000|         1.000000|          0.499900|     100000.000000|\n",
            "|    max|        -124.350000|         41.950000|          9.000000|      9992.000000|       999.000000|        999.000000|       999.000000|          9.907100|      99900.000000|\n",
            "+-------+-------------------+------------------+------------------+-----------------+-----------------+------------------+-----------------+------------------+------------------+\n",
            "\n"
          ]
        }
      ]
    },
    {
      "cell_type": "code",
      "source": [
        "df.show(10)"
      ],
      "metadata": {
        "colab": {
          "base_uri": "https://localhost:8080/"
        },
        "id": "oAVjzizXnph3",
        "outputId": "be7a6656-d818-4372-c361-ab483fe537c2"
      },
      "execution_count": 14,
      "outputs": [
        {
          "output_type": "stream",
          "name": "stdout",
          "text": [
            "+-----------+---------+------------------+-----------+--------------+-----------+-----------+-------------+------------------+\n",
            "|  longitude| latitude|housing_median_age|total_rooms|total_bedrooms| population| households|median_income|median_house_value|\n",
            "+-----------+---------+------------------+-----------+--------------+-----------+-----------+-------------+------------------+\n",
            "|-114.310000|34.190000|         15.000000|5612.000000|   1283.000000|1015.000000| 472.000000|     1.493600|      66900.000000|\n",
            "|-114.470000|34.400000|         19.000000|7650.000000|   1901.000000|1129.000000| 463.000000|     1.820000|      80100.000000|\n",
            "|-114.560000|33.690000|         17.000000| 720.000000|    174.000000| 333.000000| 117.000000|     1.650900|      85700.000000|\n",
            "|-114.570000|33.640000|         14.000000|1501.000000|    337.000000| 515.000000| 226.000000|     3.191700|      73400.000000|\n",
            "|-114.570000|33.570000|         20.000000|1454.000000|    326.000000| 624.000000| 262.000000|     1.925000|      65500.000000|\n",
            "|-114.580000|33.630000|         29.000000|1387.000000|    236.000000| 671.000000| 239.000000|     3.343800|      74000.000000|\n",
            "|-114.580000|33.610000|         25.000000|2907.000000|    680.000000|1841.000000| 633.000000|     2.676800|      82400.000000|\n",
            "|-114.590000|34.830000|         41.000000| 812.000000|    168.000000| 375.000000| 158.000000|     1.708300|      48500.000000|\n",
            "|-114.590000|33.610000|         34.000000|4789.000000|   1175.000000|3134.000000|1056.000000|     2.178200|      58400.000000|\n",
            "|-114.600000|34.830000|         46.000000|1497.000000|    309.000000| 787.000000| 271.000000|     2.190800|      48100.000000|\n",
            "+-----------+---------+------------------+-----------+--------------+-----------+-----------+-------------+------------------+\n",
            "only showing top 10 rows\n",
            "\n"
          ]
        }
      ]
    },
    {
      "cell_type": "code",
      "source": [
        "type(df1)"
      ],
      "metadata": {
        "colab": {
          "base_uri": "https://localhost:8080/",
          "height": 187
        },
        "id": "APeSWpX-bSH3",
        "outputId": "3543b0d9-73ad-4041-e478-66122f9dec3d"
      },
      "execution_count": 15,
      "outputs": [
        {
          "output_type": "execute_result",
          "data": {
            "text/plain": [
              "pyspark.sql.dataframe.DataFrame"
            ],
            "text/html": [
              "<div style=\"max-width:800px; border: 1px solid var(--colab-border-color);\"><style>\n",
              "      pre.function-repr-contents {\n",
              "        overflow-x: auto;\n",
              "        padding: 8px 12px;\n",
              "        max-height: 500px;\n",
              "      }\n",
              "\n",
              "      pre.function-repr-contents.function-repr-contents-collapsed {\n",
              "        cursor: pointer;\n",
              "        max-height: 100px;\n",
              "      }\n",
              "    </style>\n",
              "    <pre style=\"white-space: initial; background:\n",
              "         var(--colab-secondary-surface-color); padding: 8px 12px;\n",
              "         border-bottom: 1px solid var(--colab-border-color);\"><b>pyspark.sql.dataframe.DataFrame</b><br/>def __init__(jdf: JavaObject, sql_ctx: Union[&#x27;SQLContext&#x27;, &#x27;SparkSession&#x27;])</pre><pre class=\"function-repr-contents function-repr-contents-collapsed\" style=\"\"><a class=\"filepath\" style=\"display:none\" href=\"#\">/usr/local/lib/python3.10/dist-packages/pyspark/sql/dataframe.py</a>A distributed collection of data grouped into named columns.\n",
              "\n",
              ".. versionadded:: 1.3.0\n",
              "\n",
              ".. versionchanged:: 3.4.0\n",
              "    Supports Spark Connect.\n",
              "\n",
              "Examples\n",
              "--------\n",
              "A :class:`DataFrame` is equivalent to a relational table in Spark SQL,\n",
              "and can be created using various functions in :class:`SparkSession`:\n",
              "\n",
              "&gt;&gt;&gt; people = spark.createDataFrame([\n",
              "...     {&quot;deptId&quot;: 1, &quot;age&quot;: 40, &quot;name&quot;: &quot;Hyukjin Kwon&quot;, &quot;gender&quot;: &quot;M&quot;, &quot;salary&quot;: 50},\n",
              "...     {&quot;deptId&quot;: 1, &quot;age&quot;: 50, &quot;name&quot;: &quot;Takuya Ueshin&quot;, &quot;gender&quot;: &quot;M&quot;, &quot;salary&quot;: 100},\n",
              "...     {&quot;deptId&quot;: 2, &quot;age&quot;: 60, &quot;name&quot;: &quot;Xinrong Meng&quot;, &quot;gender&quot;: &quot;F&quot;, &quot;salary&quot;: 150},\n",
              "...     {&quot;deptId&quot;: 3, &quot;age&quot;: 20, &quot;name&quot;: &quot;Haejoon Lee&quot;, &quot;gender&quot;: &quot;M&quot;, &quot;salary&quot;: 200}\n",
              "... ])\n",
              "\n",
              "Once created, it can be manipulated using the various domain-specific-language\n",
              "(DSL) functions defined in: :class:`DataFrame`, :class:`Column`.\n",
              "\n",
              "To select a column from the :class:`DataFrame`, use the apply method:\n",
              "\n",
              "&gt;&gt;&gt; age_col = people.age\n",
              "\n",
              "A more concrete example:\n",
              "\n",
              "&gt;&gt;&gt; # To create DataFrame using SparkSession\n",
              "... department = spark.createDataFrame([\n",
              "...     {&quot;id&quot;: 1, &quot;name&quot;: &quot;PySpark&quot;},\n",
              "...     {&quot;id&quot;: 2, &quot;name&quot;: &quot;ML&quot;},\n",
              "...     {&quot;id&quot;: 3, &quot;name&quot;: &quot;Spark SQL&quot;}\n",
              "... ])\n",
              "\n",
              "&gt;&gt;&gt; people.filter(people.age &gt; 30).join(\n",
              "...     department, people.deptId == department.id).groupBy(\n",
              "...     department.name, &quot;gender&quot;).agg({&quot;salary&quot;: &quot;avg&quot;, &quot;age&quot;: &quot;max&quot;}).show()\n",
              "+-------+------+-----------+--------+\n",
              "|   name|gender|avg(salary)|max(age)|\n",
              "+-------+------+-----------+--------+\n",
              "|     ML|     F|      150.0|      60|\n",
              "|PySpark|     M|       75.0|      50|\n",
              "+-------+------+-----------+--------+\n",
              "\n",
              "Notes\n",
              "-----\n",
              "A DataFrame should only be created as described above. It should not be directly\n",
              "created via using the constructor.</pre>\n",
              "      <script>\n",
              "      if (google.colab.kernel.accessAllowed && google.colab.files && google.colab.files.view) {\n",
              "        for (const element of document.querySelectorAll('.filepath')) {\n",
              "          element.style.display = 'block'\n",
              "          element.onclick = (event) => {\n",
              "            event.preventDefault();\n",
              "            event.stopPropagation();\n",
              "            google.colab.files.view(element.textContent, 80);\n",
              "          };\n",
              "        }\n",
              "      }\n",
              "      for (const element of document.querySelectorAll('.function-repr-contents')) {\n",
              "        element.onclick = (event) => {\n",
              "          event.preventDefault();\n",
              "          event.stopPropagation();\n",
              "          element.classList.toggle('function-repr-contents-collapsed');\n",
              "        };\n",
              "      }\n",
              "      </script>\n",
              "      </div>"
            ]
          },
          "metadata": {},
          "execution_count": 15
        }
      ]
    },
    {
      "cell_type": "code",
      "source": [
        "df1.columns"
      ],
      "metadata": {
        "colab": {
          "base_uri": "https://localhost:8080/"
        },
        "id": "AAsZ7HVsboCP",
        "outputId": "854c768e-bb22-4570-9a38-116b53d21b02"
      },
      "execution_count": 16,
      "outputs": [
        {
          "output_type": "execute_result",
          "data": {
            "text/plain": [
              "['longitude',\n",
              " 'latitude',\n",
              " 'housing_median_age',\n",
              " 'total_rooms',\n",
              " 'total_bedrooms',\n",
              " 'population',\n",
              " 'households',\n",
              " 'median_income',\n",
              " 'median_house_value']"
            ]
          },
          "metadata": {},
          "execution_count": 16
        }
      ]
    },
    {
      "cell_type": "code",
      "source": [
        "df1.show(100)"
      ],
      "metadata": {
        "id": "M8RCouMPbz8Z",
        "colab": {
          "base_uri": "https://localhost:8080/"
        },
        "outputId": "349734b2-48d3-4aae-d9d1-bb5883e90318"
      },
      "execution_count": 17,
      "outputs": [
        {
          "output_type": "stream",
          "name": "stdout",
          "text": [
            "+---------+--------+------------------+-----------+--------------+----------+----------+-------------+------------------+\n",
            "|longitude|latitude|housing_median_age|total_rooms|total_bedrooms|population|households|median_income|median_house_value|\n",
            "+---------+--------+------------------+-----------+--------------+----------+----------+-------------+------------------+\n",
            "|  -114.31|   34.19|              15.0|     5612.0|        1283.0|    1015.0|     472.0|       1.4936|           66900.0|\n",
            "|  -114.47|    34.4|              19.0|     7650.0|        1901.0|    1129.0|     463.0|         1.82|           80100.0|\n",
            "|  -114.56|   33.69|              17.0|      720.0|         174.0|     333.0|     117.0|       1.6509|           85700.0|\n",
            "|  -114.57|   33.64|              14.0|     1501.0|         337.0|     515.0|     226.0|       3.1917|           73400.0|\n",
            "|  -114.57|   33.57|              20.0|     1454.0|         326.0|     624.0|     262.0|        1.925|           65500.0|\n",
            "|  -114.58|   33.63|              29.0|     1387.0|         236.0|     671.0|     239.0|       3.3438|           74000.0|\n",
            "|  -114.58|   33.61|              25.0|     2907.0|         680.0|    1841.0|     633.0|       2.6768|           82400.0|\n",
            "|  -114.59|   34.83|              41.0|      812.0|         168.0|     375.0|     158.0|       1.7083|           48500.0|\n",
            "|  -114.59|   33.61|              34.0|     4789.0|        1175.0|    3134.0|    1056.0|       2.1782|           58400.0|\n",
            "|   -114.6|   34.83|              46.0|     1497.0|         309.0|     787.0|     271.0|       2.1908|           48100.0|\n",
            "|   -114.6|   33.62|              16.0|     3741.0|         801.0|    2434.0|     824.0|       2.6797|           86500.0|\n",
            "|   -114.6|    33.6|              21.0|     1988.0|         483.0|    1182.0|     437.0|        1.625|           62000.0|\n",
            "|  -114.61|   34.84|              48.0|     1291.0|         248.0|     580.0|     211.0|       2.1571|           48600.0|\n",
            "|  -114.61|   34.83|              31.0|     2478.0|         464.0|    1346.0|     479.0|        3.212|           70400.0|\n",
            "|  -114.63|   32.76|              15.0|     1448.0|         378.0|     949.0|     300.0|       0.8585|           45000.0|\n",
            "|  -114.65|   34.89|              17.0|     2556.0|         587.0|    1005.0|     401.0|       1.6991|           69100.0|\n",
            "|  -114.65|    33.6|              28.0|     1678.0|         322.0|     666.0|     256.0|       2.9653|           94900.0|\n",
            "|  -114.65|   32.79|              21.0|       44.0|          33.0|      64.0|      27.0|       0.8571|           25000.0|\n",
            "|  -114.66|   32.74|              17.0|     1388.0|         386.0|     775.0|     320.0|       1.2049|           44000.0|\n",
            "|  -114.67|   33.92|              17.0|       97.0|          24.0|      29.0|      15.0|       1.2656|           27500.0|\n",
            "|  -114.68|   33.49|              20.0|     1491.0|         360.0|    1135.0|     303.0|       1.6395|           44400.0|\n",
            "|  -114.73|   33.43|              24.0|      796.0|         243.0|     227.0|     139.0|       0.8964|           59200.0|\n",
            "|  -114.94|   34.55|              20.0|      350.0|          95.0|     119.0|      58.0|        1.625|           50000.0|\n",
            "|  -114.98|   33.82|              15.0|      644.0|         129.0|     137.0|      52.0|       3.2097|           71300.0|\n",
            "|  -115.22|   33.54|              18.0|     1706.0|         397.0|    3424.0|     283.0|        1.625|           53500.0|\n",
            "|  -115.32|   32.82|              34.0|      591.0|         139.0|     327.0|      89.0|       3.6528|          100000.0|\n",
            "|  -115.37|   32.82|              30.0|     1602.0|         322.0|    1130.0|     335.0|       3.5735|           71100.0|\n",
            "|  -115.37|   32.82|              14.0|     1276.0|         270.0|     867.0|     261.0|       1.9375|           80900.0|\n",
            "|  -115.37|   32.81|              32.0|      741.0|         191.0|     623.0|     169.0|       1.7604|           68600.0|\n",
            "|  -115.37|   32.81|              23.0|     1458.0|         294.0|     866.0|     275.0|       2.3594|           74300.0|\n",
            "|  -115.38|   32.82|              38.0|     1892.0|         394.0|    1175.0|     374.0|       1.9939|           65800.0|\n",
            "|  -115.38|   32.81|              35.0|     1263.0|         262.0|     950.0|     241.0|       1.8958|           67500.0|\n",
            "|  -115.39|   32.76|              16.0|     1136.0|         196.0|     481.0|     185.0|       6.2558|          146300.0|\n",
            "|   -115.4|   32.86|              19.0|     1087.0|         171.0|     649.0|     173.0|       3.3182|          113800.0|\n",
            "|   -115.4|    32.7|              19.0|      583.0|         113.0|     531.0|     134.0|       1.6838|           95800.0|\n",
            "|  -115.41|   32.99|              29.0|     1141.0|         220.0|     684.0|     194.0|       3.4038|          107800.0|\n",
            "|  -115.46|   33.19|              33.0|     1234.0|         373.0|     777.0|     298.0|          1.0|           40000.0|\n",
            "|  -115.48|    32.8|              21.0|     1260.0|         246.0|     805.0|     239.0|       2.6172|           88500.0|\n",
            "|  -115.48|   32.68|              15.0|     3414.0|         666.0|    2097.0|     622.0|       2.3319|           91200.0|\n",
            "|  -115.49|   32.87|              19.0|      541.0|         104.0|     457.0|     106.0|       3.3583|          102800.0|\n",
            "|  -115.49|   32.69|              17.0|     1960.0|         389.0|    1691.0|     356.0|        1.899|           64000.0|\n",
            "|  -115.49|   32.67|              29.0|     1523.0|         440.0|    1302.0|     393.0|       1.1311|           84700.0|\n",
            "|  -115.49|   32.67|              25.0|     2322.0|         573.0|    2185.0|     602.0|        1.375|           70100.0|\n",
            "|   -115.5|   32.75|              13.0|      330.0|          72.0|     822.0|      64.0|       3.4107|          142500.0|\n",
            "|   -115.5|   32.68|              18.0|     3631.0|         913.0|    3565.0|     924.0|       1.5931|           88400.0|\n",
            "|   -115.5|   32.67|              35.0|     2159.0|         492.0|    1694.0|     475.0|       2.1776|           75500.0|\n",
            "|  -115.51|   33.24|              32.0|     1995.0|         523.0|    1069.0|     410.0|       1.6552|           43300.0|\n",
            "|  -115.51|   33.12|              21.0|     1024.0|         218.0|     890.0|     232.0|        2.101|           46700.0|\n",
            "|  -115.51|   32.99|              20.0|     1402.0|         287.0|    1104.0|     317.0|       1.9088|           63700.0|\n",
            "|  -115.51|   32.68|              11.0|     2872.0|         610.0|    2644.0|     581.0|        2.625|           72700.0|\n",
            "|  -115.52|   34.22|              30.0|      540.0|         136.0|     122.0|      63.0|       1.3333|           42500.0|\n",
            "|  -115.52|   33.13|              18.0|     1109.0|         283.0|    1006.0|     253.0|        2.163|           53400.0|\n",
            "|  -115.52|   33.12|              38.0|     1327.0|         262.0|     784.0|     231.0|       1.8793|           60800.0|\n",
            "|  -115.52|   32.98|              32.0|     1615.0|         382.0|    1307.0|     345.0|       1.4583|           58600.0|\n",
            "|  -115.52|   32.97|              24.0|     1617.0|         366.0|    1416.0|     401.0|        1.975|           66400.0|\n",
            "|  -115.52|   32.97|              10.0|     1879.0|         387.0|    1376.0|     337.0|       1.9911|           67500.0|\n",
            "|  -115.52|   32.77|              18.0|     1715.0|         337.0|    1166.0|     333.0|       2.2417|           79200.0|\n",
            "|  -115.52|   32.73|              17.0|     1190.0|         275.0|    1113.0|     258.0|       2.3571|           63100.0|\n",
            "|  -115.52|   32.67|               6.0|     2804.0|         581.0|    2807.0|     594.0|       2.0625|           67700.0|\n",
            "|  -115.53|   34.91|              12.0|      807.0|         199.0|     246.0|     102.0|       2.5391|           40000.0|\n",
            "|  -115.53|   32.99|              25.0|     2578.0|         634.0|    2082.0|     565.0|       1.7159|           62200.0|\n",
            "|  -115.53|   32.97|              35.0|     1583.0|         340.0|     933.0|     318.0|       2.4063|           70700.0|\n",
            "|  -115.53|   32.97|              34.0|     2231.0|         545.0|    1568.0|     510.0|       1.5217|           60300.0|\n",
            "|  -115.53|   32.73|              14.0|     1527.0|         325.0|    1453.0|     332.0|        1.735|           61200.0|\n",
            "|  -115.54|   32.99|              23.0|     1459.0|         373.0|    1148.0|     388.0|       1.5372|           69400.0|\n",
            "|  -115.54|   32.99|              17.0|     1697.0|         268.0|     911.0|     254.0|       4.3523|           96000.0|\n",
            "|  -115.54|   32.98|              27.0|     1513.0|         395.0|    1121.0|     381.0|       1.9464|           60600.0|\n",
            "|  -115.54|   32.97|              41.0|     2429.0|         454.0|    1188.0|     430.0|       3.0091|           70800.0|\n",
            "|  -115.54|   32.79|              23.0|     1712.0|         403.0|    1370.0|     377.0|        1.275|           60400.0|\n",
            "|  -115.55|   32.98|              33.0|     2266.0|         365.0|     952.0|     360.0|       5.4349|          143000.0|\n",
            "|  -115.55|   32.98|              24.0|     2565.0|         530.0|    1447.0|     473.0|       3.2593|           80800.0|\n",
            "|  -115.55|   32.82|              34.0|     1540.0|         316.0|    1013.0|     274.0|       2.5664|           67500.0|\n",
            "|  -115.55|    32.8|              23.0|      666.0|         142.0|     580.0|     160.0|       2.1136|           61000.0|\n",
            "|  -115.55|   32.79|              23.0|     1004.0|         221.0|     697.0|     201.0|       1.6351|           59600.0|\n",
            "|  -115.55|   32.79|              22.0|      565.0|         162.0|     692.0|     141.0|       1.2083|           53600.0|\n",
            "|  -115.55|   32.78|               5.0|     2652.0|         606.0|    1767.0|     536.0|       2.8025|           84300.0|\n",
            "|  -115.56|   32.96|              21.0|     2164.0|         480.0|    1164.0|     421.0|       3.8177|          107200.0|\n",
            "|  -115.56|    32.8|              28.0|     1672.0|         416.0|    1335.0|     397.0|       1.5987|           59400.0|\n",
            "|  -115.56|    32.8|              25.0|     1311.0|         375.0|    1193.0|     351.0|       2.1979|           63900.0|\n",
            "|  -115.56|    32.8|              15.0|     1171.0|         328.0|    1024.0|     298.0|       1.3882|           69400.0|\n",
            "|  -115.56|   32.79|              20.0|     2372.0|         835.0|    2283.0|     767.0|       1.1707|           62500.0|\n",
            "|  -115.56|   32.79|              18.0|     1178.0|         438.0|    1377.0|     429.0|       1.3373|           58300.0|\n",
            "|  -115.56|   32.78|              46.0|     2511.0|         490.0|    1583.0|     469.0|       3.0603|           70800.0|\n",
            "|  -115.56|   32.78|              35.0|     1185.0|         202.0|     615.0|     191.0|       4.6154|           86200.0|\n",
            "|  -115.56|   32.78|              29.0|     1568.0|         283.0|     848.0|     245.0|       3.1597|           76200.0|\n",
            "|  -115.56|   32.76|              15.0|     1278.0|         217.0|     653.0|     185.0|       4.4821|          140300.0|\n",
            "|  -115.57|   32.85|              33.0|     1365.0|         269.0|     825.0|     250.0|       3.2396|           62300.0|\n",
            "|  -115.57|   32.85|              17.0|     1039.0|         256.0|     728.0|     246.0|       1.7411|           63500.0|\n",
            "|  -115.57|   32.84|              29.0|     1207.0|         301.0|     804.0|     288.0|       1.9531|           61100.0|\n",
            "|  -115.57|   32.83|              31.0|     1494.0|         289.0|     959.0|     284.0|       3.5282|           67500.0|\n",
            "|  -115.57|    32.8|              16.0|     2276.0|         594.0|    1184.0|     513.0|        1.875|           93800.0|\n",
            "|  -115.57|   32.79|              34.0|     1152.0|         208.0|     621.0|     208.0|       3.6042|           73600.0|\n",
            "|  -115.57|   32.78|              20.0|     1534.0|         235.0|     871.0|     222.0|       6.2715|           97200.0|\n",
            "|  -115.57|   32.78|              15.0|     1413.0|         279.0|     803.0|     277.0|       4.3021|           87500.0|\n",
            "|  -115.58|   33.88|              21.0|     1161.0|         282.0|     724.0|     186.0|       3.1827|           71700.0|\n",
            "|  -115.58|   32.81|               5.0|      805.0|         143.0|     458.0|     143.0|        4.475|           96300.0|\n",
            "|  -115.58|   32.81|              10.0|     1088.0|         203.0|     533.0|     201.0|       3.6597|           87500.0|\n",
            "|  -115.58|   32.79|              14.0|     1687.0|         507.0|     762.0|     451.0|       1.6635|           64400.0|\n",
            "|  -115.58|   32.78|               5.0|     2494.0|         414.0|    1416.0|     421.0|       5.7843|          110100.0|\n",
            "|  -115.59|   32.85|              20.0|     1608.0|         274.0|     862.0|     248.0|        4.875|           90800.0|\n",
            "+---------+--------+------------------+-----------+--------------+----------+----------+-------------+------------------+\n",
            "only showing top 100 rows\n",
            "\n"
          ]
        }
      ]
    },
    {
      "cell_type": "code",
      "source": [
        "# To show the rows in the DataFrame\n",
        "df1.head(100)"
      ],
      "metadata": {
        "id": "KEnLxOi-b6Eb",
        "colab": {
          "base_uri": "https://localhost:8080/"
        },
        "outputId": "00455efd-f0d5-47ec-d7b2-129f831abc64"
      },
      "execution_count": 18,
      "outputs": [
        {
          "output_type": "execute_result",
          "data": {
            "text/plain": [
              "[Row(longitude=-114.31, latitude=34.19, housing_median_age=15.0, total_rooms=5612.0, total_bedrooms=1283.0, population=1015.0, households=472.0, median_income=1.4936, median_house_value=66900.0),\n",
              " Row(longitude=-114.47, latitude=34.4, housing_median_age=19.0, total_rooms=7650.0, total_bedrooms=1901.0, population=1129.0, households=463.0, median_income=1.82, median_house_value=80100.0),\n",
              " Row(longitude=-114.56, latitude=33.69, housing_median_age=17.0, total_rooms=720.0, total_bedrooms=174.0, population=333.0, households=117.0, median_income=1.6509, median_house_value=85700.0),\n",
              " Row(longitude=-114.57, latitude=33.64, housing_median_age=14.0, total_rooms=1501.0, total_bedrooms=337.0, population=515.0, households=226.0, median_income=3.1917, median_house_value=73400.0),\n",
              " Row(longitude=-114.57, latitude=33.57, housing_median_age=20.0, total_rooms=1454.0, total_bedrooms=326.0, population=624.0, households=262.0, median_income=1.925, median_house_value=65500.0),\n",
              " Row(longitude=-114.58, latitude=33.63, housing_median_age=29.0, total_rooms=1387.0, total_bedrooms=236.0, population=671.0, households=239.0, median_income=3.3438, median_house_value=74000.0),\n",
              " Row(longitude=-114.58, latitude=33.61, housing_median_age=25.0, total_rooms=2907.0, total_bedrooms=680.0, population=1841.0, households=633.0, median_income=2.6768, median_house_value=82400.0),\n",
              " Row(longitude=-114.59, latitude=34.83, housing_median_age=41.0, total_rooms=812.0, total_bedrooms=168.0, population=375.0, households=158.0, median_income=1.7083, median_house_value=48500.0),\n",
              " Row(longitude=-114.59, latitude=33.61, housing_median_age=34.0, total_rooms=4789.0, total_bedrooms=1175.0, population=3134.0, households=1056.0, median_income=2.1782, median_house_value=58400.0),\n",
              " Row(longitude=-114.6, latitude=34.83, housing_median_age=46.0, total_rooms=1497.0, total_bedrooms=309.0, population=787.0, households=271.0, median_income=2.1908, median_house_value=48100.0),\n",
              " Row(longitude=-114.6, latitude=33.62, housing_median_age=16.0, total_rooms=3741.0, total_bedrooms=801.0, population=2434.0, households=824.0, median_income=2.6797, median_house_value=86500.0),\n",
              " Row(longitude=-114.6, latitude=33.6, housing_median_age=21.0, total_rooms=1988.0, total_bedrooms=483.0, population=1182.0, households=437.0, median_income=1.625, median_house_value=62000.0),\n",
              " Row(longitude=-114.61, latitude=34.84, housing_median_age=48.0, total_rooms=1291.0, total_bedrooms=248.0, population=580.0, households=211.0, median_income=2.1571, median_house_value=48600.0),\n",
              " Row(longitude=-114.61, latitude=34.83, housing_median_age=31.0, total_rooms=2478.0, total_bedrooms=464.0, population=1346.0, households=479.0, median_income=3.212, median_house_value=70400.0),\n",
              " Row(longitude=-114.63, latitude=32.76, housing_median_age=15.0, total_rooms=1448.0, total_bedrooms=378.0, population=949.0, households=300.0, median_income=0.8585, median_house_value=45000.0),\n",
              " Row(longitude=-114.65, latitude=34.89, housing_median_age=17.0, total_rooms=2556.0, total_bedrooms=587.0, population=1005.0, households=401.0, median_income=1.6991, median_house_value=69100.0),\n",
              " Row(longitude=-114.65, latitude=33.6, housing_median_age=28.0, total_rooms=1678.0, total_bedrooms=322.0, population=666.0, households=256.0, median_income=2.9653, median_house_value=94900.0),\n",
              " Row(longitude=-114.65, latitude=32.79, housing_median_age=21.0, total_rooms=44.0, total_bedrooms=33.0, population=64.0, households=27.0, median_income=0.8571, median_house_value=25000.0),\n",
              " Row(longitude=-114.66, latitude=32.74, housing_median_age=17.0, total_rooms=1388.0, total_bedrooms=386.0, population=775.0, households=320.0, median_income=1.2049, median_house_value=44000.0),\n",
              " Row(longitude=-114.67, latitude=33.92, housing_median_age=17.0, total_rooms=97.0, total_bedrooms=24.0, population=29.0, households=15.0, median_income=1.2656, median_house_value=27500.0),\n",
              " Row(longitude=-114.68, latitude=33.49, housing_median_age=20.0, total_rooms=1491.0, total_bedrooms=360.0, population=1135.0, households=303.0, median_income=1.6395, median_house_value=44400.0),\n",
              " Row(longitude=-114.73, latitude=33.43, housing_median_age=24.0, total_rooms=796.0, total_bedrooms=243.0, population=227.0, households=139.0, median_income=0.8964, median_house_value=59200.0),\n",
              " Row(longitude=-114.94, latitude=34.55, housing_median_age=20.0, total_rooms=350.0, total_bedrooms=95.0, population=119.0, households=58.0, median_income=1.625, median_house_value=50000.0),\n",
              " Row(longitude=-114.98, latitude=33.82, housing_median_age=15.0, total_rooms=644.0, total_bedrooms=129.0, population=137.0, households=52.0, median_income=3.2097, median_house_value=71300.0),\n",
              " Row(longitude=-115.22, latitude=33.54, housing_median_age=18.0, total_rooms=1706.0, total_bedrooms=397.0, population=3424.0, households=283.0, median_income=1.625, median_house_value=53500.0),\n",
              " Row(longitude=-115.32, latitude=32.82, housing_median_age=34.0, total_rooms=591.0, total_bedrooms=139.0, population=327.0, households=89.0, median_income=3.6528, median_house_value=100000.0),\n",
              " Row(longitude=-115.37, latitude=32.82, housing_median_age=30.0, total_rooms=1602.0, total_bedrooms=322.0, population=1130.0, households=335.0, median_income=3.5735, median_house_value=71100.0),\n",
              " Row(longitude=-115.37, latitude=32.82, housing_median_age=14.0, total_rooms=1276.0, total_bedrooms=270.0, population=867.0, households=261.0, median_income=1.9375, median_house_value=80900.0),\n",
              " Row(longitude=-115.37, latitude=32.81, housing_median_age=32.0, total_rooms=741.0, total_bedrooms=191.0, population=623.0, households=169.0, median_income=1.7604, median_house_value=68600.0),\n",
              " Row(longitude=-115.37, latitude=32.81, housing_median_age=23.0, total_rooms=1458.0, total_bedrooms=294.0, population=866.0, households=275.0, median_income=2.3594, median_house_value=74300.0),\n",
              " Row(longitude=-115.38, latitude=32.82, housing_median_age=38.0, total_rooms=1892.0, total_bedrooms=394.0, population=1175.0, households=374.0, median_income=1.9939, median_house_value=65800.0),\n",
              " Row(longitude=-115.38, latitude=32.81, housing_median_age=35.0, total_rooms=1263.0, total_bedrooms=262.0, population=950.0, households=241.0, median_income=1.8958, median_house_value=67500.0),\n",
              " Row(longitude=-115.39, latitude=32.76, housing_median_age=16.0, total_rooms=1136.0, total_bedrooms=196.0, population=481.0, households=185.0, median_income=6.2558, median_house_value=146300.0),\n",
              " Row(longitude=-115.4, latitude=32.86, housing_median_age=19.0, total_rooms=1087.0, total_bedrooms=171.0, population=649.0, households=173.0, median_income=3.3182, median_house_value=113800.0),\n",
              " Row(longitude=-115.4, latitude=32.7, housing_median_age=19.0, total_rooms=583.0, total_bedrooms=113.0, population=531.0, households=134.0, median_income=1.6838, median_house_value=95800.0),\n",
              " Row(longitude=-115.41, latitude=32.99, housing_median_age=29.0, total_rooms=1141.0, total_bedrooms=220.0, population=684.0, households=194.0, median_income=3.4038, median_house_value=107800.0),\n",
              " Row(longitude=-115.46, latitude=33.19, housing_median_age=33.0, total_rooms=1234.0, total_bedrooms=373.0, population=777.0, households=298.0, median_income=1.0, median_house_value=40000.0),\n",
              " Row(longitude=-115.48, latitude=32.8, housing_median_age=21.0, total_rooms=1260.0, total_bedrooms=246.0, population=805.0, households=239.0, median_income=2.6172, median_house_value=88500.0),\n",
              " Row(longitude=-115.48, latitude=32.68, housing_median_age=15.0, total_rooms=3414.0, total_bedrooms=666.0, population=2097.0, households=622.0, median_income=2.3319, median_house_value=91200.0),\n",
              " Row(longitude=-115.49, latitude=32.87, housing_median_age=19.0, total_rooms=541.0, total_bedrooms=104.0, population=457.0, households=106.0, median_income=3.3583, median_house_value=102800.0),\n",
              " Row(longitude=-115.49, latitude=32.69, housing_median_age=17.0, total_rooms=1960.0, total_bedrooms=389.0, population=1691.0, households=356.0, median_income=1.899, median_house_value=64000.0),\n",
              " Row(longitude=-115.49, latitude=32.67, housing_median_age=29.0, total_rooms=1523.0, total_bedrooms=440.0, population=1302.0, households=393.0, median_income=1.1311, median_house_value=84700.0),\n",
              " Row(longitude=-115.49, latitude=32.67, housing_median_age=25.0, total_rooms=2322.0, total_bedrooms=573.0, population=2185.0, households=602.0, median_income=1.375, median_house_value=70100.0),\n",
              " Row(longitude=-115.5, latitude=32.75, housing_median_age=13.0, total_rooms=330.0, total_bedrooms=72.0, population=822.0, households=64.0, median_income=3.4107, median_house_value=142500.0),\n",
              " Row(longitude=-115.5, latitude=32.68, housing_median_age=18.0, total_rooms=3631.0, total_bedrooms=913.0, population=3565.0, households=924.0, median_income=1.5931, median_house_value=88400.0),\n",
              " Row(longitude=-115.5, latitude=32.67, housing_median_age=35.0, total_rooms=2159.0, total_bedrooms=492.0, population=1694.0, households=475.0, median_income=2.1776, median_house_value=75500.0),\n",
              " Row(longitude=-115.51, latitude=33.24, housing_median_age=32.0, total_rooms=1995.0, total_bedrooms=523.0, population=1069.0, households=410.0, median_income=1.6552, median_house_value=43300.0),\n",
              " Row(longitude=-115.51, latitude=33.12, housing_median_age=21.0, total_rooms=1024.0, total_bedrooms=218.0, population=890.0, households=232.0, median_income=2.101, median_house_value=46700.0),\n",
              " Row(longitude=-115.51, latitude=32.99, housing_median_age=20.0, total_rooms=1402.0, total_bedrooms=287.0, population=1104.0, households=317.0, median_income=1.9088, median_house_value=63700.0),\n",
              " Row(longitude=-115.51, latitude=32.68, housing_median_age=11.0, total_rooms=2872.0, total_bedrooms=610.0, population=2644.0, households=581.0, median_income=2.625, median_house_value=72700.0),\n",
              " Row(longitude=-115.52, latitude=34.22, housing_median_age=30.0, total_rooms=540.0, total_bedrooms=136.0, population=122.0, households=63.0, median_income=1.3333, median_house_value=42500.0),\n",
              " Row(longitude=-115.52, latitude=33.13, housing_median_age=18.0, total_rooms=1109.0, total_bedrooms=283.0, population=1006.0, households=253.0, median_income=2.163, median_house_value=53400.0),\n",
              " Row(longitude=-115.52, latitude=33.12, housing_median_age=38.0, total_rooms=1327.0, total_bedrooms=262.0, population=784.0, households=231.0, median_income=1.8793, median_house_value=60800.0),\n",
              " Row(longitude=-115.52, latitude=32.98, housing_median_age=32.0, total_rooms=1615.0, total_bedrooms=382.0, population=1307.0, households=345.0, median_income=1.4583, median_house_value=58600.0),\n",
              " Row(longitude=-115.52, latitude=32.97, housing_median_age=24.0, total_rooms=1617.0, total_bedrooms=366.0, population=1416.0, households=401.0, median_income=1.975, median_house_value=66400.0),\n",
              " Row(longitude=-115.52, latitude=32.97, housing_median_age=10.0, total_rooms=1879.0, total_bedrooms=387.0, population=1376.0, households=337.0, median_income=1.9911, median_house_value=67500.0),\n",
              " Row(longitude=-115.52, latitude=32.77, housing_median_age=18.0, total_rooms=1715.0, total_bedrooms=337.0, population=1166.0, households=333.0, median_income=2.2417, median_house_value=79200.0),\n",
              " Row(longitude=-115.52, latitude=32.73, housing_median_age=17.0, total_rooms=1190.0, total_bedrooms=275.0, population=1113.0, households=258.0, median_income=2.3571, median_house_value=63100.0),\n",
              " Row(longitude=-115.52, latitude=32.67, housing_median_age=6.0, total_rooms=2804.0, total_bedrooms=581.0, population=2807.0, households=594.0, median_income=2.0625, median_house_value=67700.0),\n",
              " Row(longitude=-115.53, latitude=34.91, housing_median_age=12.0, total_rooms=807.0, total_bedrooms=199.0, population=246.0, households=102.0, median_income=2.5391, median_house_value=40000.0),\n",
              " Row(longitude=-115.53, latitude=32.99, housing_median_age=25.0, total_rooms=2578.0, total_bedrooms=634.0, population=2082.0, households=565.0, median_income=1.7159, median_house_value=62200.0),\n",
              " Row(longitude=-115.53, latitude=32.97, housing_median_age=35.0, total_rooms=1583.0, total_bedrooms=340.0, population=933.0, households=318.0, median_income=2.4063, median_house_value=70700.0),\n",
              " Row(longitude=-115.53, latitude=32.97, housing_median_age=34.0, total_rooms=2231.0, total_bedrooms=545.0, population=1568.0, households=510.0, median_income=1.5217, median_house_value=60300.0),\n",
              " Row(longitude=-115.53, latitude=32.73, housing_median_age=14.0, total_rooms=1527.0, total_bedrooms=325.0, population=1453.0, households=332.0, median_income=1.735, median_house_value=61200.0),\n",
              " Row(longitude=-115.54, latitude=32.99, housing_median_age=23.0, total_rooms=1459.0, total_bedrooms=373.0, population=1148.0, households=388.0, median_income=1.5372, median_house_value=69400.0),\n",
              " Row(longitude=-115.54, latitude=32.99, housing_median_age=17.0, total_rooms=1697.0, total_bedrooms=268.0, population=911.0, households=254.0, median_income=4.3523, median_house_value=96000.0),\n",
              " Row(longitude=-115.54, latitude=32.98, housing_median_age=27.0, total_rooms=1513.0, total_bedrooms=395.0, population=1121.0, households=381.0, median_income=1.9464, median_house_value=60600.0),\n",
              " Row(longitude=-115.54, latitude=32.97, housing_median_age=41.0, total_rooms=2429.0, total_bedrooms=454.0, population=1188.0, households=430.0, median_income=3.0091, median_house_value=70800.0),\n",
              " Row(longitude=-115.54, latitude=32.79, housing_median_age=23.0, total_rooms=1712.0, total_bedrooms=403.0, population=1370.0, households=377.0, median_income=1.275, median_house_value=60400.0),\n",
              " Row(longitude=-115.55, latitude=32.98, housing_median_age=33.0, total_rooms=2266.0, total_bedrooms=365.0, population=952.0, households=360.0, median_income=5.4349, median_house_value=143000.0),\n",
              " Row(longitude=-115.55, latitude=32.98, housing_median_age=24.0, total_rooms=2565.0, total_bedrooms=530.0, population=1447.0, households=473.0, median_income=3.2593, median_house_value=80800.0),\n",
              " Row(longitude=-115.55, latitude=32.82, housing_median_age=34.0, total_rooms=1540.0, total_bedrooms=316.0, population=1013.0, households=274.0, median_income=2.5664, median_house_value=67500.0),\n",
              " Row(longitude=-115.55, latitude=32.8, housing_median_age=23.0, total_rooms=666.0, total_bedrooms=142.0, population=580.0, households=160.0, median_income=2.1136, median_house_value=61000.0),\n",
              " Row(longitude=-115.55, latitude=32.79, housing_median_age=23.0, total_rooms=1004.0, total_bedrooms=221.0, population=697.0, households=201.0, median_income=1.6351, median_house_value=59600.0),\n",
              " Row(longitude=-115.55, latitude=32.79, housing_median_age=22.0, total_rooms=565.0, total_bedrooms=162.0, population=692.0, households=141.0, median_income=1.2083, median_house_value=53600.0),\n",
              " Row(longitude=-115.55, latitude=32.78, housing_median_age=5.0, total_rooms=2652.0, total_bedrooms=606.0, population=1767.0, households=536.0, median_income=2.8025, median_house_value=84300.0),\n",
              " Row(longitude=-115.56, latitude=32.96, housing_median_age=21.0, total_rooms=2164.0, total_bedrooms=480.0, population=1164.0, households=421.0, median_income=3.8177, median_house_value=107200.0),\n",
              " Row(longitude=-115.56, latitude=32.8, housing_median_age=28.0, total_rooms=1672.0, total_bedrooms=416.0, population=1335.0, households=397.0, median_income=1.5987, median_house_value=59400.0),\n",
              " Row(longitude=-115.56, latitude=32.8, housing_median_age=25.0, total_rooms=1311.0, total_bedrooms=375.0, population=1193.0, households=351.0, median_income=2.1979, median_house_value=63900.0),\n",
              " Row(longitude=-115.56, latitude=32.8, housing_median_age=15.0, total_rooms=1171.0, total_bedrooms=328.0, population=1024.0, households=298.0, median_income=1.3882, median_house_value=69400.0),\n",
              " Row(longitude=-115.56, latitude=32.79, housing_median_age=20.0, total_rooms=2372.0, total_bedrooms=835.0, population=2283.0, households=767.0, median_income=1.1707, median_house_value=62500.0),\n",
              " Row(longitude=-115.56, latitude=32.79, housing_median_age=18.0, total_rooms=1178.0, total_bedrooms=438.0, population=1377.0, households=429.0, median_income=1.3373, median_house_value=58300.0),\n",
              " Row(longitude=-115.56, latitude=32.78, housing_median_age=46.0, total_rooms=2511.0, total_bedrooms=490.0, population=1583.0, households=469.0, median_income=3.0603, median_house_value=70800.0),\n",
              " Row(longitude=-115.56, latitude=32.78, housing_median_age=35.0, total_rooms=1185.0, total_bedrooms=202.0, population=615.0, households=191.0, median_income=4.6154, median_house_value=86200.0),\n",
              " Row(longitude=-115.56, latitude=32.78, housing_median_age=29.0, total_rooms=1568.0, total_bedrooms=283.0, population=848.0, households=245.0, median_income=3.1597, median_house_value=76200.0),\n",
              " Row(longitude=-115.56, latitude=32.76, housing_median_age=15.0, total_rooms=1278.0, total_bedrooms=217.0, population=653.0, households=185.0, median_income=4.4821, median_house_value=140300.0),\n",
              " Row(longitude=-115.57, latitude=32.85, housing_median_age=33.0, total_rooms=1365.0, total_bedrooms=269.0, population=825.0, households=250.0, median_income=3.2396, median_house_value=62300.0),\n",
              " Row(longitude=-115.57, latitude=32.85, housing_median_age=17.0, total_rooms=1039.0, total_bedrooms=256.0, population=728.0, households=246.0, median_income=1.7411, median_house_value=63500.0),\n",
              " Row(longitude=-115.57, latitude=32.84, housing_median_age=29.0, total_rooms=1207.0, total_bedrooms=301.0, population=804.0, households=288.0, median_income=1.9531, median_house_value=61100.0),\n",
              " Row(longitude=-115.57, latitude=32.83, housing_median_age=31.0, total_rooms=1494.0, total_bedrooms=289.0, population=959.0, households=284.0, median_income=3.5282, median_house_value=67500.0),\n",
              " Row(longitude=-115.57, latitude=32.8, housing_median_age=16.0, total_rooms=2276.0, total_bedrooms=594.0, population=1184.0, households=513.0, median_income=1.875, median_house_value=93800.0),\n",
              " Row(longitude=-115.57, latitude=32.79, housing_median_age=34.0, total_rooms=1152.0, total_bedrooms=208.0, population=621.0, households=208.0, median_income=3.6042, median_house_value=73600.0),\n",
              " Row(longitude=-115.57, latitude=32.78, housing_median_age=20.0, total_rooms=1534.0, total_bedrooms=235.0, population=871.0, households=222.0, median_income=6.2715, median_house_value=97200.0),\n",
              " Row(longitude=-115.57, latitude=32.78, housing_median_age=15.0, total_rooms=1413.0, total_bedrooms=279.0, population=803.0, households=277.0, median_income=4.3021, median_house_value=87500.0),\n",
              " Row(longitude=-115.58, latitude=33.88, housing_median_age=21.0, total_rooms=1161.0, total_bedrooms=282.0, population=724.0, households=186.0, median_income=3.1827, median_house_value=71700.0),\n",
              " Row(longitude=-115.58, latitude=32.81, housing_median_age=5.0, total_rooms=805.0, total_bedrooms=143.0, population=458.0, households=143.0, median_income=4.475, median_house_value=96300.0),\n",
              " Row(longitude=-115.58, latitude=32.81, housing_median_age=10.0, total_rooms=1088.0, total_bedrooms=203.0, population=533.0, households=201.0, median_income=3.6597, median_house_value=87500.0),\n",
              " Row(longitude=-115.58, latitude=32.79, housing_median_age=14.0, total_rooms=1687.0, total_bedrooms=507.0, population=762.0, households=451.0, median_income=1.6635, median_house_value=64400.0),\n",
              " Row(longitude=-115.58, latitude=32.78, housing_median_age=5.0, total_rooms=2494.0, total_bedrooms=414.0, population=1416.0, households=421.0, median_income=5.7843, median_house_value=110100.0),\n",
              " Row(longitude=-115.59, latitude=32.85, housing_median_age=20.0, total_rooms=1608.0, total_bedrooms=274.0, population=862.0, households=248.0, median_income=4.875, median_house_value=90800.0)]"
            ]
          },
          "metadata": {},
          "execution_count": 18
        }
      ]
    },
    {
      "cell_type": "code",
      "source": [
        "df1.columns"
      ],
      "metadata": {
        "colab": {
          "base_uri": "https://localhost:8080/"
        },
        "id": "k7qDupqdcM-X",
        "outputId": "1f9322b8-40f8-4dff-853c-d42b73e43d35"
      },
      "execution_count": 19,
      "outputs": [
        {
          "output_type": "execute_result",
          "data": {
            "text/plain": [
              "['longitude',\n",
              " 'latitude',\n",
              " 'housing_median_age',\n",
              " 'total_rooms',\n",
              " 'total_bedrooms',\n",
              " 'population',\n",
              " 'households',\n",
              " 'median_income',\n",
              " 'median_house_value']"
            ]
          },
          "metadata": {},
          "execution_count": 19
        }
      ]
    },
    {
      "cell_type": "code",
      "source": [
        "df1.select(['longitude',\n",
        " 'latitude',\n",
        " 'median_house_value']).show()"
      ],
      "metadata": {
        "colab": {
          "base_uri": "https://localhost:8080/"
        },
        "id": "Z5gN_yHackkZ",
        "outputId": "a15379e6-deec-411d-c48c-812ccd022926"
      },
      "execution_count": 20,
      "outputs": [
        {
          "output_type": "stream",
          "name": "stdout",
          "text": [
            "+---------+--------+------------------+\n",
            "|longitude|latitude|median_house_value|\n",
            "+---------+--------+------------------+\n",
            "|  -114.31|   34.19|           66900.0|\n",
            "|  -114.47|    34.4|           80100.0|\n",
            "|  -114.56|   33.69|           85700.0|\n",
            "|  -114.57|   33.64|           73400.0|\n",
            "|  -114.57|   33.57|           65500.0|\n",
            "|  -114.58|   33.63|           74000.0|\n",
            "|  -114.58|   33.61|           82400.0|\n",
            "|  -114.59|   34.83|           48500.0|\n",
            "|  -114.59|   33.61|           58400.0|\n",
            "|   -114.6|   34.83|           48100.0|\n",
            "|   -114.6|   33.62|           86500.0|\n",
            "|   -114.6|    33.6|           62000.0|\n",
            "|  -114.61|   34.84|           48600.0|\n",
            "|  -114.61|   34.83|           70400.0|\n",
            "|  -114.63|   32.76|           45000.0|\n",
            "|  -114.65|   34.89|           69100.0|\n",
            "|  -114.65|    33.6|           94900.0|\n",
            "|  -114.65|   32.79|           25000.0|\n",
            "|  -114.66|   32.74|           44000.0|\n",
            "|  -114.67|   33.92|           27500.0|\n",
            "+---------+--------+------------------+\n",
            "only showing top 20 rows\n",
            "\n"
          ]
        }
      ]
    },
    {
      "cell_type": "code",
      "source": [
        "df1.dtypes"
      ],
      "metadata": {
        "colab": {
          "base_uri": "https://localhost:8080/"
        },
        "id": "BI3mQ0x4cnzx",
        "outputId": "d912464f-1006-4b1f-f942-404cdf724efc"
      },
      "execution_count": 21,
      "outputs": [
        {
          "output_type": "execute_result",
          "data": {
            "text/plain": [
              "[('longitude', 'double'),\n",
              " ('latitude', 'double'),\n",
              " ('housing_median_age', 'double'),\n",
              " ('total_rooms', 'double'),\n",
              " ('total_bedrooms', 'double'),\n",
              " ('population', 'double'),\n",
              " ('households', 'double'),\n",
              " ('median_income', 'double'),\n",
              " ('median_house_value', 'double')]"
            ]
          },
          "metadata": {},
          "execution_count": 21
        }
      ]
    },
    {
      "cell_type": "code",
      "source": [
        "# Select to see the column values returned as DataFrame\n",
        "df.select('latitude').show(10)"
      ],
      "metadata": {
        "colab": {
          "base_uri": "https://localhost:8080/"
        },
        "id": "6rVwEGGnrIno",
        "outputId": "e34dd7ca-e4a9-46fd-f07d-38c7b1f7a1e8"
      },
      "execution_count": 22,
      "outputs": [
        {
          "output_type": "stream",
          "name": "stdout",
          "text": [
            "+---------+\n",
            "| latitude|\n",
            "+---------+\n",
            "|34.190000|\n",
            "|34.400000|\n",
            "|33.690000|\n",
            "|33.640000|\n",
            "|33.570000|\n",
            "|33.630000|\n",
            "|33.610000|\n",
            "|34.830000|\n",
            "|33.610000|\n",
            "|34.830000|\n",
            "+---------+\n",
            "only showing top 10 rows\n",
            "\n"
          ]
        }
      ]
    },
    {
      "cell_type": "code",
      "source": [
        "# Selecting multiple columns in dataframe\n",
        "df.select(['latitude' , 'longitude']).show()"
      ],
      "metadata": {
        "colab": {
          "base_uri": "https://localhost:8080/"
        },
        "id": "DQAnQDmvrU98",
        "outputId": "2d02b82c-591d-4b30-d811-752a5ad5bdbb"
      },
      "execution_count": 23,
      "outputs": [
        {
          "output_type": "stream",
          "name": "stdout",
          "text": [
            "+---------+-----------+\n",
            "| latitude|  longitude|\n",
            "+---------+-----------+\n",
            "|34.190000|-114.310000|\n",
            "|34.400000|-114.470000|\n",
            "|33.690000|-114.560000|\n",
            "|33.640000|-114.570000|\n",
            "|33.570000|-114.570000|\n",
            "|33.630000|-114.580000|\n",
            "|33.610000|-114.580000|\n",
            "|34.830000|-114.590000|\n",
            "|33.610000|-114.590000|\n",
            "|34.830000|-114.600000|\n",
            "|33.620000|-114.600000|\n",
            "|33.600000|-114.600000|\n",
            "|34.840000|-114.610000|\n",
            "|34.830000|-114.610000|\n",
            "|32.760000|-114.630000|\n",
            "|34.890000|-114.650000|\n",
            "|33.600000|-114.650000|\n",
            "|32.790000|-114.650000|\n",
            "|32.740000|-114.660000|\n",
            "|33.920000|-114.670000|\n",
            "+---------+-----------+\n",
            "only showing top 20 rows\n",
            "\n"
          ]
        }
      ]
    },
    {
      "cell_type": "code",
      "source": [
        "type(df.head(10)[1]) # List of data type sql.type.row"
      ],
      "metadata": {
        "colab": {
          "base_uri": "https://localhost:8080/",
          "height": 187
        },
        "id": "sj5qkckKwnQs",
        "outputId": "7b57b6c2-9bdd-458c-ca8e-681795b6bdef"
      },
      "execution_count": 30,
      "outputs": [
        {
          "output_type": "execute_result",
          "data": {
            "text/plain": [
              "pyspark.sql.types.Row"
            ],
            "text/html": [
              "<div style=\"max-width:800px; border: 1px solid var(--colab-border-color);\"><style>\n",
              "      pre.function-repr-contents {\n",
              "        overflow-x: auto;\n",
              "        padding: 8px 12px;\n",
              "        max-height: 500px;\n",
              "      }\n",
              "\n",
              "      pre.function-repr-contents.function-repr-contents-collapsed {\n",
              "        cursor: pointer;\n",
              "        max-height: 100px;\n",
              "      }\n",
              "    </style>\n",
              "    <pre style=\"white-space: initial; background:\n",
              "         var(--colab-secondary-surface-color); padding: 8px 12px;\n",
              "         border-bottom: 1px solid var(--colab-border-color);\"><b>pyspark.sql.types.Row</b><br/>def __call__(*args: Any) -&gt; &#x27;Row&#x27;</pre><pre class=\"function-repr-contents function-repr-contents-collapsed\" style=\"\"><a class=\"filepath\" style=\"display:none\" href=\"#\">/usr/local/lib/python3.10/dist-packages/pyspark/sql/types.py</a>A row in :class:`DataFrame`.\n",
              "The fields in it can be accessed:\n",
              "\n",
              "* like attributes (``row.key``)\n",
              "* like dictionary values (``row[key]``)\n",
              "\n",
              "``key in row`` will search through row keys.\n",
              "\n",
              "Row can be used to create a row object by using named arguments.\n",
              "It is not allowed to omit a named argument to represent that the value is\n",
              "None or missing. This should be explicitly set to None in this case.\n",
              "\n",
              ".. versionchanged:: 3.0.0\n",
              "    Rows created from named arguments no longer have\n",
              "    field names sorted alphabetically and will be ordered in the position as\n",
              "    entered.\n",
              "\n",
              "Examples\n",
              "--------\n",
              "&gt;&gt;&gt; from pyspark.sql import Row\n",
              "&gt;&gt;&gt; row = Row(name=&quot;Alice&quot;, age=11)\n",
              "&gt;&gt;&gt; row\n",
              "Row(name=&#x27;Alice&#x27;, age=11)\n",
              "&gt;&gt;&gt; row[&#x27;name&#x27;], row[&#x27;age&#x27;]\n",
              "(&#x27;Alice&#x27;, 11)\n",
              "&gt;&gt;&gt; row.name, row.age\n",
              "(&#x27;Alice&#x27;, 11)\n",
              "&gt;&gt;&gt; &#x27;name&#x27; in row\n",
              "True\n",
              "&gt;&gt;&gt; &#x27;wrong_key&#x27; in row\n",
              "False\n",
              "\n",
              "Row also can be used to create another Row like class, then it\n",
              "could be used to create Row objects, such as\n",
              "\n",
              "&gt;&gt;&gt; Person = Row(&quot;name&quot;, &quot;age&quot;)\n",
              "&gt;&gt;&gt; Person\n",
              "&lt;Row(&#x27;name&#x27;, &#x27;age&#x27;)&gt;\n",
              "&gt;&gt;&gt; &#x27;name&#x27; in Person\n",
              "True\n",
              "&gt;&gt;&gt; &#x27;wrong_key&#x27; in Person\n",
              "False\n",
              "&gt;&gt;&gt; Person(&quot;Alice&quot;, 11)\n",
              "Row(name=&#x27;Alice&#x27;, age=11)\n",
              "\n",
              "This form can also be used to create rows as tuple values, i.e. with unnamed\n",
              "fields.\n",
              "\n",
              "&gt;&gt;&gt; row1 = Row(&quot;Alice&quot;, 11)\n",
              "&gt;&gt;&gt; row2 = Row(name=&quot;Alice&quot;, age=11)\n",
              "&gt;&gt;&gt; row1 == row2\n",
              "True</pre>\n",
              "      <script>\n",
              "      if (google.colab.kernel.accessAllowed && google.colab.files && google.colab.files.view) {\n",
              "        for (const element of document.querySelectorAll('.filepath')) {\n",
              "          element.style.display = 'block'\n",
              "          element.onclick = (event) => {\n",
              "            event.preventDefault();\n",
              "            event.stopPropagation();\n",
              "            google.colab.files.view(element.textContent, 2205);\n",
              "          };\n",
              "        }\n",
              "      }\n",
              "      for (const element of document.querySelectorAll('.function-repr-contents')) {\n",
              "        element.onclick = (event) => {\n",
              "          event.preventDefault();\n",
              "          event.stopPropagation();\n",
              "          element.classList.toggle('function-repr-contents-collapsed');\n",
              "        };\n",
              "      }\n",
              "      </script>\n",
              "      </div>"
            ]
          },
          "metadata": {},
          "execution_count": 30
        }
      ]
    },
    {
      "cell_type": "code",
      "source": [
        "type(df.select('latitude'))"
      ],
      "metadata": {
        "colab": {
          "base_uri": "https://localhost:8080/",
          "height": 187
        },
        "id": "Vqzt3WhDwqyV",
        "outputId": "61263495-082e-4c0c-b3f9-a1a7d124d166"
      },
      "execution_count": 33,
      "outputs": [
        {
          "output_type": "execute_result",
          "data": {
            "text/plain": [
              "pyspark.sql.dataframe.DataFrame"
            ],
            "text/html": [
              "<div style=\"max-width:800px; border: 1px solid var(--colab-border-color);\"><style>\n",
              "      pre.function-repr-contents {\n",
              "        overflow-x: auto;\n",
              "        padding: 8px 12px;\n",
              "        max-height: 500px;\n",
              "      }\n",
              "\n",
              "      pre.function-repr-contents.function-repr-contents-collapsed {\n",
              "        cursor: pointer;\n",
              "        max-height: 100px;\n",
              "      }\n",
              "    </style>\n",
              "    <pre style=\"white-space: initial; background:\n",
              "         var(--colab-secondary-surface-color); padding: 8px 12px;\n",
              "         border-bottom: 1px solid var(--colab-border-color);\"><b>pyspark.sql.dataframe.DataFrame</b><br/>def __init__(jdf: JavaObject, sql_ctx: Union[&#x27;SQLContext&#x27;, &#x27;SparkSession&#x27;])</pre><pre class=\"function-repr-contents function-repr-contents-collapsed\" style=\"\"><a class=\"filepath\" style=\"display:none\" href=\"#\">/usr/local/lib/python3.10/dist-packages/pyspark/sql/dataframe.py</a>A distributed collection of data grouped into named columns.\n",
              "\n",
              ".. versionadded:: 1.3.0\n",
              "\n",
              ".. versionchanged:: 3.4.0\n",
              "    Supports Spark Connect.\n",
              "\n",
              "Examples\n",
              "--------\n",
              "A :class:`DataFrame` is equivalent to a relational table in Spark SQL,\n",
              "and can be created using various functions in :class:`SparkSession`:\n",
              "\n",
              "&gt;&gt;&gt; people = spark.createDataFrame([\n",
              "...     {&quot;deptId&quot;: 1, &quot;age&quot;: 40, &quot;name&quot;: &quot;Hyukjin Kwon&quot;, &quot;gender&quot;: &quot;M&quot;, &quot;salary&quot;: 50},\n",
              "...     {&quot;deptId&quot;: 1, &quot;age&quot;: 50, &quot;name&quot;: &quot;Takuya Ueshin&quot;, &quot;gender&quot;: &quot;M&quot;, &quot;salary&quot;: 100},\n",
              "...     {&quot;deptId&quot;: 2, &quot;age&quot;: 60, &quot;name&quot;: &quot;Xinrong Meng&quot;, &quot;gender&quot;: &quot;F&quot;, &quot;salary&quot;: 150},\n",
              "...     {&quot;deptId&quot;: 3, &quot;age&quot;: 20, &quot;name&quot;: &quot;Haejoon Lee&quot;, &quot;gender&quot;: &quot;M&quot;, &quot;salary&quot;: 200}\n",
              "... ])\n",
              "\n",
              "Once created, it can be manipulated using the various domain-specific-language\n",
              "(DSL) functions defined in: :class:`DataFrame`, :class:`Column`.\n",
              "\n",
              "To select a column from the :class:`DataFrame`, use the apply method:\n",
              "\n",
              "&gt;&gt;&gt; age_col = people.age\n",
              "\n",
              "A more concrete example:\n",
              "\n",
              "&gt;&gt;&gt; # To create DataFrame using SparkSession\n",
              "... department = spark.createDataFrame([\n",
              "...     {&quot;id&quot;: 1, &quot;name&quot;: &quot;PySpark&quot;},\n",
              "...     {&quot;id&quot;: 2, &quot;name&quot;: &quot;ML&quot;},\n",
              "...     {&quot;id&quot;: 3, &quot;name&quot;: &quot;Spark SQL&quot;}\n",
              "... ])\n",
              "\n",
              "&gt;&gt;&gt; people.filter(people.age &gt; 30).join(\n",
              "...     department, people.deptId == department.id).groupBy(\n",
              "...     department.name, &quot;gender&quot;).agg({&quot;salary&quot;: &quot;avg&quot;, &quot;age&quot;: &quot;max&quot;}).show()\n",
              "+-------+------+-----------+--------+\n",
              "|   name|gender|avg(salary)|max(age)|\n",
              "+-------+------+-----------+--------+\n",
              "|     ML|     F|      150.0|      60|\n",
              "|PySpark|     M|       75.0|      50|\n",
              "+-------+------+-----------+--------+\n",
              "\n",
              "Notes\n",
              "-----\n",
              "A DataFrame should only be created as described above. It should not be directly\n",
              "created via using the constructor.</pre>\n",
              "      <script>\n",
              "      if (google.colab.kernel.accessAllowed && google.colab.files && google.colab.files.view) {\n",
              "        for (const element of document.querySelectorAll('.filepath')) {\n",
              "          element.style.display = 'block'\n",
              "          element.onclick = (event) => {\n",
              "            event.preventDefault();\n",
              "            event.stopPropagation();\n",
              "            google.colab.files.view(element.textContent, 80);\n",
              "          };\n",
              "        }\n",
              "      }\n",
              "      for (const element of document.querySelectorAll('.function-repr-contents')) {\n",
              "        element.onclick = (event) => {\n",
              "          event.preventDefault();\n",
              "          event.stopPropagation();\n",
              "          element.classList.toggle('function-repr-contents-collapsed');\n",
              "        };\n",
              "      }\n",
              "      </script>\n",
              "      </div>"
            ]
          },
          "metadata": {},
          "execution_count": 33
        }
      ]
    },
    {
      "cell_type": "code",
      "source": [
        "(df.select('latitude')).show()"
      ],
      "metadata": {
        "colab": {
          "base_uri": "https://localhost:8080/"
        },
        "id": "rWJJ1yrixAXm",
        "outputId": "fe3afed0-73c7-4cff-d070-4c994647e32c"
      },
      "execution_count": 35,
      "outputs": [
        {
          "output_type": "stream",
          "name": "stdout",
          "text": [
            "+---------+\n",
            "| latitude|\n",
            "+---------+\n",
            "|34.190000|\n",
            "|34.400000|\n",
            "|33.690000|\n",
            "|33.640000|\n",
            "|33.570000|\n",
            "|33.630000|\n",
            "|33.610000|\n",
            "|34.830000|\n",
            "|33.610000|\n",
            "|34.830000|\n",
            "|33.620000|\n",
            "|33.600000|\n",
            "|34.840000|\n",
            "|34.830000|\n",
            "|32.760000|\n",
            "|34.890000|\n",
            "|33.600000|\n",
            "|32.790000|\n",
            "|32.740000|\n",
            "|33.920000|\n",
            "+---------+\n",
            "only showing top 20 rows\n",
            "\n"
          ]
        }
      ]
    },
    {
      "cell_type": "code",
      "source": [
        ""
      ],
      "metadata": {
        "colab": {
          "base_uri": "https://localhost:8080/"
        },
        "id": "C_KqEOsGxMQH",
        "outputId": "08187b23-43f3-477f-c101-1a192c5eefaf"
      },
      "execution_count": 42,
      "outputs": [
        {
          "output_type": "stream",
          "name": "stdout",
          "text": [
            "+---------+\n",
            "| latitude|\n",
            "+---------+\n",
            "|34.190000|\n",
            "|34.400000|\n",
            "|33.690000|\n",
            "|33.640000|\n",
            "|33.570000|\n",
            "|33.630000|\n",
            "|33.610000|\n",
            "|34.830000|\n",
            "|33.610000|\n",
            "|34.830000|\n",
            "|33.620000|\n",
            "|33.600000|\n",
            "|34.840000|\n",
            "|34.830000|\n",
            "|32.760000|\n",
            "|34.890000|\n",
            "|33.600000|\n",
            "|32.790000|\n",
            "|32.740000|\n",
            "|33.920000|\n",
            "+---------+\n",
            "only showing top 20 rows\n",
            "\n"
          ]
        }
      ]
    },
    {
      "cell_type": "code",
      "source": [
        "# Creating new columns in data frame from the present column\n",
        "df.withColumn('newLatitude',df['latitude']*10).show()\n"
      ],
      "metadata": {
        "id": "b9Z6cvAxrlfv",
        "colab": {
          "base_uri": "https://localhost:8080/"
        },
        "outputId": "5aa14c75-434c-4f4e-e58f-e291b7fb3b0b"
      },
      "execution_count": 24,
      "outputs": [
        {
          "output_type": "stream",
          "name": "stdout",
          "text": [
            "+-----------+---------+------------------+-----------+--------------+-----------+-----------+-------------+------------------+------------------+\n",
            "|  longitude| latitude|housing_median_age|total_rooms|total_bedrooms| population| households|median_income|median_house_value|       newLatitude|\n",
            "+-----------+---------+------------------+-----------+--------------+-----------+-----------+-------------+------------------+------------------+\n",
            "|-114.310000|34.190000|         15.000000|5612.000000|   1283.000000|1015.000000| 472.000000|     1.493600|      66900.000000|             341.9|\n",
            "|-114.470000|34.400000|         19.000000|7650.000000|   1901.000000|1129.000000| 463.000000|     1.820000|      80100.000000|             344.0|\n",
            "|-114.560000|33.690000|         17.000000| 720.000000|    174.000000| 333.000000| 117.000000|     1.650900|      85700.000000|             336.9|\n",
            "|-114.570000|33.640000|         14.000000|1501.000000|    337.000000| 515.000000| 226.000000|     3.191700|      73400.000000|             336.4|\n",
            "|-114.570000|33.570000|         20.000000|1454.000000|    326.000000| 624.000000| 262.000000|     1.925000|      65500.000000|             335.7|\n",
            "|-114.580000|33.630000|         29.000000|1387.000000|    236.000000| 671.000000| 239.000000|     3.343800|      74000.000000|             336.3|\n",
            "|-114.580000|33.610000|         25.000000|2907.000000|    680.000000|1841.000000| 633.000000|     2.676800|      82400.000000|             336.1|\n",
            "|-114.590000|34.830000|         41.000000| 812.000000|    168.000000| 375.000000| 158.000000|     1.708300|      48500.000000|348.29999999999995|\n",
            "|-114.590000|33.610000|         34.000000|4789.000000|   1175.000000|3134.000000|1056.000000|     2.178200|      58400.000000|             336.1|\n",
            "|-114.600000|34.830000|         46.000000|1497.000000|    309.000000| 787.000000| 271.000000|     2.190800|      48100.000000|348.29999999999995|\n",
            "|-114.600000|33.620000|         16.000000|3741.000000|    801.000000|2434.000000| 824.000000|     2.679700|      86500.000000|             336.2|\n",
            "|-114.600000|33.600000|         21.000000|1988.000000|    483.000000|1182.000000| 437.000000|     1.625000|      62000.000000|             336.0|\n",
            "|-114.610000|34.840000|         48.000000|1291.000000|    248.000000| 580.000000| 211.000000|     2.157100|      48600.000000|348.40000000000003|\n",
            "|-114.610000|34.830000|         31.000000|2478.000000|    464.000000|1346.000000| 479.000000|     3.212000|      70400.000000|348.29999999999995|\n",
            "|-114.630000|32.760000|         15.000000|1448.000000|    378.000000| 949.000000| 300.000000|     0.858500|      45000.000000|327.59999999999997|\n",
            "|-114.650000|34.890000|         17.000000|2556.000000|    587.000000|1005.000000| 401.000000|     1.699100|      69100.000000|             348.9|\n",
            "|-114.650000|33.600000|         28.000000|1678.000000|    322.000000| 666.000000| 256.000000|     2.965300|      94900.000000|             336.0|\n",
            "|-114.650000|32.790000|         21.000000|  44.000000|     33.000000|  64.000000|  27.000000|     0.857100|      25000.000000|             327.9|\n",
            "|-114.660000|32.740000|         17.000000|1388.000000|    386.000000| 775.000000| 320.000000|     1.204900|      44000.000000|327.40000000000003|\n",
            "|-114.670000|33.920000|         17.000000|  97.000000|     24.000000|  29.000000|  15.000000|     1.265600|      27500.000000|339.20000000000005|\n",
            "+-----------+---------+------------------+-----------+--------------+-----------+-----------+-------------+------------------+------------------+\n",
            "only showing top 20 rows\n",
            "\n"
          ]
        }
      ]
    },
    {
      "cell_type": "code",
      "source": [
        "# Rename an existing column\n",
        "df.withColumnRenamed('latitude' , 'new_lat').show()"
      ],
      "metadata": {
        "colab": {
          "base_uri": "https://localhost:8080/"
        },
        "id": "80n_hDCUxRuM",
        "outputId": "1535eafc-e1e5-43ba-b5aa-278af497dde5"
      },
      "execution_count": 45,
      "outputs": [
        {
          "output_type": "stream",
          "name": "stdout",
          "text": [
            "+-----------+---------+------------------+-----------+--------------+-----------+-----------+-------------+------------------+\n",
            "|  longitude|  new_lat|housing_median_age|total_rooms|total_bedrooms| population| households|median_income|median_house_value|\n",
            "+-----------+---------+------------------+-----------+--------------+-----------+-----------+-------------+------------------+\n",
            "|-114.310000|34.190000|         15.000000|5612.000000|   1283.000000|1015.000000| 472.000000|     1.493600|      66900.000000|\n",
            "|-114.470000|34.400000|         19.000000|7650.000000|   1901.000000|1129.000000| 463.000000|     1.820000|      80100.000000|\n",
            "|-114.560000|33.690000|         17.000000| 720.000000|    174.000000| 333.000000| 117.000000|     1.650900|      85700.000000|\n",
            "|-114.570000|33.640000|         14.000000|1501.000000|    337.000000| 515.000000| 226.000000|     3.191700|      73400.000000|\n",
            "|-114.570000|33.570000|         20.000000|1454.000000|    326.000000| 624.000000| 262.000000|     1.925000|      65500.000000|\n",
            "|-114.580000|33.630000|         29.000000|1387.000000|    236.000000| 671.000000| 239.000000|     3.343800|      74000.000000|\n",
            "|-114.580000|33.610000|         25.000000|2907.000000|    680.000000|1841.000000| 633.000000|     2.676800|      82400.000000|\n",
            "|-114.590000|34.830000|         41.000000| 812.000000|    168.000000| 375.000000| 158.000000|     1.708300|      48500.000000|\n",
            "|-114.590000|33.610000|         34.000000|4789.000000|   1175.000000|3134.000000|1056.000000|     2.178200|      58400.000000|\n",
            "|-114.600000|34.830000|         46.000000|1497.000000|    309.000000| 787.000000| 271.000000|     2.190800|      48100.000000|\n",
            "|-114.600000|33.620000|         16.000000|3741.000000|    801.000000|2434.000000| 824.000000|     2.679700|      86500.000000|\n",
            "|-114.600000|33.600000|         21.000000|1988.000000|    483.000000|1182.000000| 437.000000|     1.625000|      62000.000000|\n",
            "|-114.610000|34.840000|         48.000000|1291.000000|    248.000000| 580.000000| 211.000000|     2.157100|      48600.000000|\n",
            "|-114.610000|34.830000|         31.000000|2478.000000|    464.000000|1346.000000| 479.000000|     3.212000|      70400.000000|\n",
            "|-114.630000|32.760000|         15.000000|1448.000000|    378.000000| 949.000000| 300.000000|     0.858500|      45000.000000|\n",
            "|-114.650000|34.890000|         17.000000|2556.000000|    587.000000|1005.000000| 401.000000|     1.699100|      69100.000000|\n",
            "|-114.650000|33.600000|         28.000000|1678.000000|    322.000000| 666.000000| 256.000000|     2.965300|      94900.000000|\n",
            "|-114.650000|32.790000|         21.000000|  44.000000|     33.000000|  64.000000|  27.000000|     0.857100|      25000.000000|\n",
            "|-114.660000|32.740000|         17.000000|1388.000000|    386.000000| 775.000000| 320.000000|     1.204900|      44000.000000|\n",
            "|-114.670000|33.920000|         17.000000|  97.000000|     24.000000|  29.000000|  15.000000|     1.265600|      27500.000000|\n",
            "+-----------+---------+------------------+-----------+--------------+-----------+-----------+-------------+------------------+\n",
            "only showing top 20 rows\n",
            "\n"
          ]
        }
      ]
    },
    {
      "cell_type": "markdown",
      "source": [
        "# Register a dataframe as a SQL view using createOrReplaceTempView\n",
        "Creating a view from the table as Dataframe and leverage SQL to be applied to the dataframe to access the data"
      ],
      "metadata": {
        "id": "6xKrfz1LyJLg"
      }
    },
    {
      "cell_type": "code",
      "source": [
        "df.createOrReplaceTempView('TempView')"
      ],
      "metadata": {
        "id": "kM_iaQj_xuRu"
      },
      "execution_count": 46,
      "outputs": []
    },
    {
      "cell_type": "code",
      "source": [
        "results = SparkSession.sql(\"select * from TempView\")"
      ],
      "metadata": {
        "id": "itVaQcrwxwKV"
      },
      "execution_count": 50,
      "outputs": []
    },
    {
      "cell_type": "code",
      "source": [
        "results.show()"
      ],
      "metadata": {
        "colab": {
          "base_uri": "https://localhost:8080/"
        },
        "id": "CptkWPrayTBP",
        "outputId": "b1ea02da-a97b-453c-ab62-a4e3756c6b9f"
      },
      "execution_count": 51,
      "outputs": [
        {
          "output_type": "stream",
          "name": "stdout",
          "text": [
            "+-----------+---------+------------------+-----------+--------------+-----------+-----------+-------------+------------------+\n",
            "|  longitude| latitude|housing_median_age|total_rooms|total_bedrooms| population| households|median_income|median_house_value|\n",
            "+-----------+---------+------------------+-----------+--------------+-----------+-----------+-------------+------------------+\n",
            "|-114.310000|34.190000|         15.000000|5612.000000|   1283.000000|1015.000000| 472.000000|     1.493600|      66900.000000|\n",
            "|-114.470000|34.400000|         19.000000|7650.000000|   1901.000000|1129.000000| 463.000000|     1.820000|      80100.000000|\n",
            "|-114.560000|33.690000|         17.000000| 720.000000|    174.000000| 333.000000| 117.000000|     1.650900|      85700.000000|\n",
            "|-114.570000|33.640000|         14.000000|1501.000000|    337.000000| 515.000000| 226.000000|     3.191700|      73400.000000|\n",
            "|-114.570000|33.570000|         20.000000|1454.000000|    326.000000| 624.000000| 262.000000|     1.925000|      65500.000000|\n",
            "|-114.580000|33.630000|         29.000000|1387.000000|    236.000000| 671.000000| 239.000000|     3.343800|      74000.000000|\n",
            "|-114.580000|33.610000|         25.000000|2907.000000|    680.000000|1841.000000| 633.000000|     2.676800|      82400.000000|\n",
            "|-114.590000|34.830000|         41.000000| 812.000000|    168.000000| 375.000000| 158.000000|     1.708300|      48500.000000|\n",
            "|-114.590000|33.610000|         34.000000|4789.000000|   1175.000000|3134.000000|1056.000000|     2.178200|      58400.000000|\n",
            "|-114.600000|34.830000|         46.000000|1497.000000|    309.000000| 787.000000| 271.000000|     2.190800|      48100.000000|\n",
            "|-114.600000|33.620000|         16.000000|3741.000000|    801.000000|2434.000000| 824.000000|     2.679700|      86500.000000|\n",
            "|-114.600000|33.600000|         21.000000|1988.000000|    483.000000|1182.000000| 437.000000|     1.625000|      62000.000000|\n",
            "|-114.610000|34.840000|         48.000000|1291.000000|    248.000000| 580.000000| 211.000000|     2.157100|      48600.000000|\n",
            "|-114.610000|34.830000|         31.000000|2478.000000|    464.000000|1346.000000| 479.000000|     3.212000|      70400.000000|\n",
            "|-114.630000|32.760000|         15.000000|1448.000000|    378.000000| 949.000000| 300.000000|     0.858500|      45000.000000|\n",
            "|-114.650000|34.890000|         17.000000|2556.000000|    587.000000|1005.000000| 401.000000|     1.699100|      69100.000000|\n",
            "|-114.650000|33.600000|         28.000000|1678.000000|    322.000000| 666.000000| 256.000000|     2.965300|      94900.000000|\n",
            "|-114.650000|32.790000|         21.000000|  44.000000|     33.000000|  64.000000|  27.000000|     0.857100|      25000.000000|\n",
            "|-114.660000|32.740000|         17.000000|1388.000000|    386.000000| 775.000000| 320.000000|     1.204900|      44000.000000|\n",
            "|-114.670000|33.920000|         17.000000|  97.000000|     24.000000|  29.000000|  15.000000|     1.265600|      27500.000000|\n",
            "+-----------+---------+------------------+-----------+--------------+-----------+-----------+-------------+------------------+\n",
            "only showing top 20 rows\n",
            "\n"
          ]
        }
      ]
    },
    {
      "cell_type": "code",
      "source": [
        "results_demo = SparkSession.sql(\"select * from TempView where total_bedrooms > 1000\")\n",
        "results_demo.count()\n",
        "results_demo.show()"
      ],
      "metadata": {
        "colab": {
          "base_uri": "https://localhost:8080/"
        },
        "id": "5Senzf-ZyXkZ",
        "outputId": "ccdacc67-4d37-467e-c2f5-90389d44819d"
      },
      "execution_count": 56,
      "outputs": [
        {
          "output_type": "stream",
          "name": "stdout",
          "text": [
            "+-----------+---------+------------------+------------+--------------+-----------+-----------+-------------+------------------+\n",
            "|  longitude| latitude|housing_median_age| total_rooms|total_bedrooms| population| households|median_income|median_house_value|\n",
            "+-----------+---------+------------------+------------+--------------+-----------+-----------+-------------+------------------+\n",
            "|-114.310000|34.190000|         15.000000| 5612.000000|   1283.000000|1015.000000| 472.000000|     1.493600|      66900.000000|\n",
            "|-114.470000|34.400000|         19.000000| 7650.000000|   1901.000000|1129.000000| 463.000000|     1.820000|      80100.000000|\n",
            "|-114.590000|33.610000|         34.000000| 4789.000000|   1175.000000|3134.000000|1056.000000|     2.178200|      58400.000000|\n",
            "|-115.850000|34.200000|         34.000000| 3868.000000|   1257.000000| 890.000000| 423.000000|     1.357100|      41000.000000|\n",
            "|-116.060000|34.150000|         15.000000|10377.000000|   2331.000000|4507.000000|1807.000000|     2.246600|      66800.000000|\n",
            "|-116.090000|34.150000|         13.000000| 9444.000000|   1997.000000|4166.000000|1482.000000|     2.611100|      65600.000000|\n",
            "|-116.140000|34.220000|         32.000000| 3298.000000|   1228.000000| 763.000000| 360.000000|     1.875000|      47800.000000|\n",
            "|-116.230000|33.720000|         32.000000| 4981.000000|   1326.000000|3779.000000|1186.000000|     1.780500|      76900.000000|\n",
            "|-116.230000|33.710000|         17.000000| 4874.000000|   1349.000000|5032.000000|1243.000000|     2.444000|      90000.000000|\n",
            "|-116.240000|33.720000|         25.000000| 5236.000000|   1039.000000|2725.000000| 935.000000|     3.775000|      93400.000000|\n",
            "|-116.240000|33.710000|         10.000000| 9033.000000|   2224.000000|5525.000000|1845.000000|     2.759800|      95000.000000|\n",
            "|-116.260000|33.650000|          3.000000| 7437.000000|   1222.000000| 574.000000| 302.000000|    10.294800|     382400.000000|\n",
            "|-116.290000|33.740000|          6.000000|12991.000000|   2555.000000|4571.000000|1926.000000|     4.719500|     199300.000000|\n",
            "|-116.330000|33.750000|          5.000000|19107.000000|   3923.000000|2880.000000|1376.000000|     4.036000|     158500.000000|\n",
            "|-116.330000|33.720000|         11.000000|12327.000000|   2000.000000|2450.000000|1139.000000|     7.438200|     353100.000000|\n",
            "|-116.360000|33.880000|         11.000000|12557.000000|   3098.000000|2453.000000|1232.000000|     1.784400|      78500.000000|\n",
            "|-116.370000|33.720000|         17.000000| 8626.000000|   1859.000000|3497.000000|1337.000000|     3.312000|     121300.000000|\n",
            "|-116.370000|33.690000|          7.000000| 8806.000000|   1542.000000| 858.000000| 448.000000|     7.800500|     318100.000000|\n",
            "|-116.370000|33.190000|         12.000000| 4890.000000|   1152.000000|1289.000000| 570.000000|     2.579500|      98700.000000|\n",
            "|-116.380000|34.200000|         14.000000| 4985.000000|   1238.000000|2517.000000| 954.000000|     2.067400|      65000.000000|\n",
            "+-----------+---------+------------------+------------+--------------+-----------+-----------+-------------+------------------+\n",
            "only showing top 20 rows\n",
            "\n"
          ]
        }
      ]
    },
    {
      "cell_type": "markdown",
      "source": [
        "# Spark Dataframe operations\n",
        "\n",
        "\n",
        "\n",
        "*   Filtering the dataframe using df.filter\n",
        "*   Filtering on multiple condition on multiple columns using pipe operator | or &\n",
        "*   Using collect to collect the results in row form\n",
        "*   Rows collected from dataframe and converted to Dict\n",
        "\n",
        "\n",
        "\n",
        "\n",
        "\n"
      ],
      "metadata": {
        "id": "zdiSX6_ezl7q"
      }
    },
    {
      "cell_type": "code",
      "source": [
        "df.filter('total_rooms < 100').show(5) # to show the first 5 rows and all columns\n",
        "df.filter('total_rooms < 100').select(['housing_median_age' , 'total_rooms']).show(5)\n"
      ],
      "metadata": {
        "colab": {
          "base_uri": "https://localhost:8080/"
        },
        "id": "dMWIbNd51Duq",
        "outputId": "0d78098e-6f2a-4095-b134-a50a0ee5d89c"
      },
      "execution_count": 66,
      "outputs": [
        {
          "output_type": "stream",
          "name": "stdout",
          "text": [
            "+-----------+---------+------------------+-----------+--------------+----------+----------+-------------+------------------+\n",
            "|  longitude| latitude|housing_median_age|total_rooms|total_bedrooms|population|households|median_income|median_house_value|\n",
            "+-----------+---------+------------------+-----------+--------------+----------+----------+-------------+------------------+\n",
            "|-114.650000|32.790000|         21.000000|  44.000000|     33.000000| 64.000000| 27.000000|     0.857100|      25000.000000|\n",
            "|-114.670000|33.920000|         17.000000|  97.000000|     24.000000| 29.000000| 15.000000|     1.265600|      27500.000000|\n",
            "|-115.800000|33.260000|          2.000000|  96.000000|     18.000000| 30.000000| 16.000000|     5.337400|      47500.000000|\n",
            "|-115.950000|33.280000|         12.000000|  99.000000|     25.000000| 37.000000| 17.000000|     1.895800|      53800.000000|\n",
            "|-116.180000|33.690000|         17.000000|  89.000000|     19.000000| 79.000000| 21.000000|     2.375000|     155000.000000|\n",
            "+-----------+---------+------------------+-----------+--------------+----------+----------+-------------+------------------+\n",
            "only showing top 5 rows\n",
            "\n",
            "+------------------+-----------+\n",
            "|housing_median_age|total_rooms|\n",
            "+------------------+-----------+\n",
            "|         21.000000|  44.000000|\n",
            "|         17.000000|  97.000000|\n",
            "|          2.000000|  96.000000|\n",
            "|         12.000000|  99.000000|\n",
            "|         17.000000|  89.000000|\n",
            "+------------------+-----------+\n",
            "only showing top 5 rows\n",
            "\n"
          ]
        }
      ]
    },
    {
      "cell_type": "code",
      "source": [
        "df.filter((df['total_rooms'] < 500) & (df['households'] < 10 ) ).show(10) # showing houses with total rooms less than 500 and household less than 10"
      ],
      "metadata": {
        "colab": {
          "base_uri": "https://localhost:8080/"
        },
        "id": "j1STaIYE1Gyj",
        "outputId": "ebbeaa48-58de-49cc-d8ec-66dd66bf2238"
      },
      "execution_count": 74,
      "outputs": [
        {
          "output_type": "stream",
          "name": "stdout",
          "text": [
            "+-----------+---------+------------------+-----------+--------------+----------+----------+-------------+------------------+\n",
            "|  longitude| latitude|housing_median_age|total_rooms|total_bedrooms|population|households|median_income|median_house_value|\n",
            "+-----------+---------+------------------+-----------+--------------+----------+----------+-------------+------------------+\n",
            "|-116.760000|34.140000|          4.000000|  42.000000|     10.000000|  9.000000|  3.000000|     0.536000|      42500.000000|\n",
            "|-117.190000|32.750000|         52.000000|  25.000000|      5.000000| 13.000000|  5.000000|     0.536000|     162500.000000|\n",
            "|-117.270000|34.170000|         16.000000|  30.000000|      3.000000| 49.000000|  8.000000|     4.625000|     250000.000000|\n",
            "|-117.610000|34.020000|          8.000000|  63.000000|      9.000000| 25.000000|  7.000000|     7.719700|     275000.000000|\n",
            "|-117.750000|34.060000|         52.000000|  24.000000|      6.000000| 46.000000|  7.000000|     1.625000|      67500.000000|\n",
            "|-117.760000|35.220000|          4.000000|  18.000000|      3.000000|  8.000000|  6.000000|     1.625000|     275000.000000|\n",
            "|-117.790000|35.210000|          4.000000|   2.000000|      2.000000|  6.000000|  2.000000|     2.375000|     137500.000000|\n",
            "|-117.860000|33.670000|         16.000000|  20.000000|      5.000000| 15.000000|  5.000000|     3.875000|     450000.000000|\n",
            "|-118.020000|33.800000|         24.000000|  84.000000|     14.000000| 32.000000|  8.000000|     5.875000|     193800.000000|\n",
            "|-118.040000|33.900000|         36.000000|  15.000000|      5.000000| 15.000000|  6.000000|     0.499900|     162500.000000|\n",
            "+-----------+---------+------------------+-----------+--------------+----------+----------+-------------+------------------+\n",
            "only showing top 10 rows\n",
            "\n"
          ]
        }
      ]
    },
    {
      "cell_type": "code",
      "source": [
        "df.filter((df['total_rooms'] < 500) & ~ (df['households'] < 10 ) ).show(10) # showing houses with total rooms less than 500 and household NOT less than 10"
      ],
      "metadata": {
        "colab": {
          "base_uri": "https://localhost:8080/"
        },
        "id": "V91QL5VV2V5P",
        "outputId": "70410e99-2fea-452f-b96e-b42df6d62a66"
      },
      "execution_count": 75,
      "outputs": [
        {
          "output_type": "stream",
          "name": "stdout",
          "text": [
            "+-----------+---------+------------------+-----------+--------------+----------+----------+-------------+------------------+\n",
            "|  longitude| latitude|housing_median_age|total_rooms|total_bedrooms|population|households|median_income|median_house_value|\n",
            "+-----------+---------+------------------+-----------+--------------+----------+----------+-------------+------------------+\n",
            "|-114.650000|32.790000|         21.000000|  44.000000|     33.000000| 64.000000| 27.000000|     0.857100|      25000.000000|\n",
            "|-114.670000|33.920000|         17.000000|  97.000000|     24.000000| 29.000000| 15.000000|     1.265600|      27500.000000|\n",
            "|-114.940000|34.550000|         20.000000| 350.000000|     95.000000|119.000000| 58.000000|     1.625000|      50000.000000|\n",
            "|-115.500000|32.750000|         13.000000| 330.000000|     72.000000|822.000000| 64.000000|     3.410700|     142500.000000|\n",
            "|-115.720000|32.750000|         16.000000| 348.000000|     99.000000|123.000000| 54.000000|     2.093800|      87500.000000|\n",
            "|-115.730000|33.090000|         27.000000| 452.000000|    103.000000|258.000000| 61.000000|     2.900000|      87500.000000|\n",
            "|-115.730000|32.800000|         44.000000| 472.000000|     81.000000|206.000000| 57.000000|     2.208300|      93800.000000|\n",
            "|-115.800000|33.260000|          2.000000|  96.000000|     18.000000| 30.000000| 16.000000|     5.337400|      47500.000000|\n",
            "|-115.880000|32.930000|         15.000000| 208.000000|     49.000000| 51.000000| 20.000000|     4.020800|      32500.000000|\n",
            "|-115.910000|33.360000|         15.000000| 459.000000|     95.000000|160.000000| 73.000000|     0.922000|      67500.000000|\n",
            "+-----------+---------+------------------+-----------+--------------+----------+----------+-------------+------------------+\n",
            "only showing top 10 rows\n",
            "\n"
          ]
        }
      ]
    },
    {
      "cell_type": "code",
      "source": [
        "result = df.filter((df['total_rooms'] < 500) & ~ (df['households'] < 10 ) ).collect() # list of rows"
      ],
      "metadata": {
        "id": "4NSNMb0-3ob7"
      },
      "execution_count": 80,
      "outputs": []
    },
    {
      "cell_type": "code",
      "source": [
        "sample_row = result[10]"
      ],
      "metadata": {
        "id": "HpJZx_k83sJq"
      },
      "execution_count": 86,
      "outputs": []
    },
    {
      "cell_type": "code",
      "source": [
        "sample_row.asDict() # converting the returned row as a dict object"
      ],
      "metadata": {
        "colab": {
          "base_uri": "https://localhost:8080/"
        },
        "id": "10M2H_Gy3un6",
        "outputId": "6b9d675f-8c91-47ae-91dd-4feaf4d71564"
      },
      "execution_count": 87,
      "outputs": [
        {
          "output_type": "execute_result",
          "data": {
            "text/plain": [
              "{'longitude': '-115.940000',\n",
              " 'latitude': '33.380000',\n",
              " 'housing_median_age': '5.000000',\n",
              " 'total_rooms': '186.000000',\n",
              " 'total_bedrooms': '43.000000',\n",
              " 'population': '41.000000',\n",
              " 'households': '21.000000',\n",
              " 'median_income': '2.700000',\n",
              " 'median_house_value': '58800.000000'}"
            ]
          },
          "metadata": {},
          "execution_count": 87
        }
      ]
    },
    {
      "cell_type": "code",
      "source": [],
      "metadata": {
        "id": "rLzILqYx4HhG"
      },
      "execution_count": null,
      "outputs": []
    }
  ]
}