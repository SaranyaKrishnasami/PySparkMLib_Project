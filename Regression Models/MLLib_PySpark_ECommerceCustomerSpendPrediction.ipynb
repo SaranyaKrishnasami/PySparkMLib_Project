{
  "nbformat": 4,
  "nbformat_minor": 0,
  "metadata": {
    "colab": {
      "provenance": [],
      "authorship_tag": "ABX9TyOprIt3WrnYIcknkn/0YuQH",
      "include_colab_link": true
    },
    "kernelspec": {
      "name": "python3",
      "display_name": "Python 3"
    },
    "language_info": {
      "name": "python"
    }
  },
  "cells": [
    {
      "cell_type": "markdown",
      "metadata": {
        "id": "view-in-github",
        "colab_type": "text"
      },
      "source": [
        "<a href=\"https://colab.research.google.com/github/SaranyaKrishnasami/PySparkMLib_Project/blob/main/Regression%20Models/MLLib_PySpark_ECommerceCustomerSpendPrediction.ipynb\" target=\"_parent\"><img src=\"https://colab.research.google.com/assets/colab-badge.svg\" alt=\"Open In Colab\"/></a>"
      ]
    },
    {
      "cell_type": "markdown",
      "source": [
        "**Reference :** spark.apache.org\n",
        "\n",
        "**Release :** https://spark.apache.org/docs/latest/ml-guide.html\n",
        "\n",
        "Spark MLLib"
      ],
      "metadata": {
        "id": "hOgS3NT7Pq7p"
      }
    },
    {
      "cell_type": "code",
      "source": [
        "!pip install pyspark"
      ],
      "metadata": {
        "colab": {
          "base_uri": "https://localhost:8080/"
        },
        "id": "2AFvCZ6S17o1",
        "outputId": "faf5ca22-1cb5-49ea-bbe7-918cde66b435"
      },
      "execution_count": 5,
      "outputs": [
        {
          "output_type": "stream",
          "name": "stdout",
          "text": [
            "Requirement already satisfied: pyspark in /usr/local/lib/python3.10/dist-packages (3.5.2)\n",
            "Requirement already satisfied: py4j==0.10.9.7 in /usr/local/lib/python3.10/dist-packages (from pyspark) (0.10.9.7)\n"
          ]
        }
      ]
    },
    {
      "cell_type": "code",
      "source": [
        "from pyspark.sql import SparkSession # SQL\n",
        "from pyspark.ml.regression import LinearRegression # ML Library\n",
        "from pyspark.ml.feature import VectorAssembler"
      ],
      "metadata": {
        "id": "re79bYXBGqfq"
      },
      "execution_count": 6,
      "outputs": []
    },
    {
      "cell_type": "code",
      "source": [
        "spark = SparkSession.builder.appName('mllibExercise').getOrCreate()\n"
      ],
      "metadata": {
        "id": "b9_655ctjoUb"
      },
      "execution_count": 7,
      "outputs": []
    },
    {
      "cell_type": "code",
      "source": [
        "# the data format is in libsbm format\n",
        "data = spark.read.csv('/content/sample_data/Ecommerce-Customers.csv' , inferSchema=True, header=True)"
      ],
      "metadata": {
        "id": "n2qL7Pa2m8c9"
      },
      "execution_count": 8,
      "outputs": []
    },
    {
      "cell_type": "code",
      "source": [
        "data.head(1)"
      ],
      "metadata": {
        "id": "vJAx1_EDnJmB",
        "colab": {
          "base_uri": "https://localhost:8080/"
        },
        "outputId": "84888ba2-0109-4705-848f-06d10c110b70"
      },
      "execution_count": 9,
      "outputs": [
        {
          "output_type": "execute_result",
          "data": {
            "text/plain": [
              "[Row(Email='mstephenson@fernandez.com', Address='835 Frank TunnelWrightmouth, MI 82180-9605', Avatar='Violet', Avg Session Length=34.49726772511229, Time on App=12.65565114916675, Time on Website=39.57766801952616, Length of Membership=4.0826206329529615, Yearly Amount Spent=587.9510539684005)]"
            ]
          },
          "metadata": {},
          "execution_count": 9
        }
      ]
    },
    {
      "cell_type": "code",
      "source": [
        "data.show(10)"
      ],
      "metadata": {
        "colab": {
          "base_uri": "https://localhost:8080/"
        },
        "id": "BcnPXwCLRfy4",
        "outputId": "fd106903-5fe6-4c39-ca21-0150d86411cf"
      },
      "execution_count": 10,
      "outputs": [
        {
          "output_type": "stream",
          "name": "stdout",
          "text": [
            "+--------------------+--------------------+----------------+------------------+------------------+------------------+--------------------+-------------------+\n",
            "|               Email|             Address|          Avatar|Avg Session Length|       Time on App|   Time on Website|Length of Membership|Yearly Amount Spent|\n",
            "+--------------------+--------------------+----------------+------------------+------------------+------------------+--------------------+-------------------+\n",
            "|mstephenson@ferna...|835 Frank TunnelW...|          Violet| 34.49726772511229| 12.65565114916675| 39.57766801952616|  4.0826206329529615|  587.9510539684005|\n",
            "|   hduke@hotmail.com|4547 Archer Commo...|       DarkGreen| 31.92627202636016|11.109460728682564|37.268958868297744|    2.66403418213262|  392.2049334443264|\n",
            "|    pallen@yahoo.com|24645 Valerie Uni...|          Bisque|33.000914755642675|11.330278057777512|37.110597442120856|   4.104543202376424| 487.54750486747207|\n",
            "|riverarebecca@gma...|1414 David Throug...|     SaddleBrown| 34.30555662975554|13.717513665142507| 36.72128267790313|   3.120178782748092|  581.8523440352177|\n",
            "|mstephens@davidso...|14023 Rodriguez P...|MediumAquaMarine| 33.33067252364639|12.795188551078114| 37.53665330059473|   4.446308318351434|  599.4060920457634|\n",
            "|alvareznancy@luca...|645 Martha Park A...|     FloralWhite|33.871037879341976|12.026925339755056| 34.47687762925054|   5.493507201364199|   637.102447915074|\n",
            "|katherine20@yahoo...|68388 Reyes Light...|   DarkSlateBlue| 32.02159550138701|11.366348309710526| 36.68377615286961|   4.685017246570912|  521.5721747578274|\n",
            "|  awatkins@yahoo.com|Unit 6538 Box 898...|            Aqua|32.739142938380326| 12.35195897300293| 37.37335885854755|  4.4342734348999375|  549.9041461052942|\n",
            "|vchurch@walter-ma...|860 Lee KeyWest D...|          Salmon| 33.98777289568564|13.386235275676436|37.534497341555735|  3.2734335777477144|  570.2004089636196|\n",
            "|    bonnie69@lin.biz|PSC 2734, Box 525...|           Brown|31.936548618448917|11.814128294972196| 37.14516822352819|   3.202806071553459|  427.1993848953282|\n",
            "+--------------------+--------------------+----------------+------------------+------------------+------------------+--------------------+-------------------+\n",
            "only showing top 10 rows\n",
            "\n"
          ]
        }
      ]
    },
    {
      "cell_type": "markdown",
      "source": [
        "# Data analysis\n",
        "### The labels are the dependant variable / target to be detected\n",
        "### Features are the inputs / independant variables for model training\n",
        "\n",
        "Independant variable / Label to be predicted is: Yearlt amount Spent\n",
        "\n",
        "Predictor Variables:\n",
        "Email, Address , Time spent on App, session\n"
      ],
      "metadata": {
        "id": "aXDTPvidRvML"
      }
    },
    {
      "cell_type": "code",
      "source": [
        "data.printSchema()"
      ],
      "metadata": {
        "colab": {
          "base_uri": "https://localhost:8080/"
        },
        "id": "rvJhhFcMWvfN",
        "outputId": "dfa23aff-b4ed-43d6-82d7-5cb1b306a4ce"
      },
      "execution_count": 11,
      "outputs": [
        {
          "output_type": "stream",
          "name": "stdout",
          "text": [
            "root\n",
            " |-- Email: string (nullable = true)\n",
            " |-- Address: string (nullable = true)\n",
            " |-- Avatar: string (nullable = true)\n",
            " |-- Avg Session Length: double (nullable = true)\n",
            " |-- Time on App: double (nullable = true)\n",
            " |-- Time on Website: double (nullable = true)\n",
            " |-- Length of Membership: double (nullable = true)\n",
            " |-- Yearly Amount Spent: double (nullable = true)\n",
            "\n"
          ]
        }
      ]
    },
    {
      "cell_type": "code",
      "source": [
        "data.columns"
      ],
      "metadata": {
        "colab": {
          "base_uri": "https://localhost:8080/"
        },
        "id": "KjqvmhHEXjha",
        "outputId": "470e46f3-f798-41f2-e575-ae45726fbac3"
      },
      "execution_count": 12,
      "outputs": [
        {
          "output_type": "execute_result",
          "data": {
            "text/plain": [
              "['Email',\n",
              " 'Address',\n",
              " 'Avatar',\n",
              " 'Avg Session Length',\n",
              " 'Time on App',\n",
              " 'Time on Website',\n",
              " 'Length of Membership',\n",
              " 'Yearly Amount Spent']"
            ]
          },
          "metadata": {},
          "execution_count": 12
        }
      ]
    },
    {
      "cell_type": "markdown",
      "source": [
        "#Feature engineering"
      ],
      "metadata": {
        "id": "7W0phMzVYq55"
      }
    },
    {
      "cell_type": "code",
      "source": [
        "from pyspark.ml.feature import VectorAssembler\n",
        "from pyspark.ml.linalg import Vectors"
      ],
      "metadata": {
        "id": "mmmJdk27XQHw"
      },
      "execution_count": 13,
      "outputs": []
    },
    {
      "cell_type": "code",
      "source": [
        "# Convert group of features into single vector\n",
        "vector_assembler = VectorAssembler(inputCols=['Avg Session Length',\n",
        " 'Time on App',\n",
        " 'Time on Website',\n",
        " 'Length of Membership'], outputCol='features')"
      ],
      "metadata": {
        "id": "GPGALI8VXmX8"
      },
      "execution_count": 14,
      "outputs": []
    },
    {
      "cell_type": "code",
      "source": [
        "# This step is to combines the combined feature to the original dataset\n",
        "collated_data = vector_assembler.transform(data)"
      ],
      "metadata": {
        "id": "r2eOGhd3YFJV"
      },
      "execution_count": 15,
      "outputs": []
    },
    {
      "cell_type": "code",
      "source": [
        "collated_data.printSchema()"
      ],
      "metadata": {
        "colab": {
          "base_uri": "https://localhost:8080/"
        },
        "id": "Ihn6DC0BYJGn",
        "outputId": "47d77505-f595-4564-f69f-33bf3fa6b32d"
      },
      "execution_count": 16,
      "outputs": [
        {
          "output_type": "stream",
          "name": "stdout",
          "text": [
            "root\n",
            " |-- Email: string (nullable = true)\n",
            " |-- Address: string (nullable = true)\n",
            " |-- Avatar: string (nullable = true)\n",
            " |-- Avg Session Length: double (nullable = true)\n",
            " |-- Time on App: double (nullable = true)\n",
            " |-- Time on Website: double (nullable = true)\n",
            " |-- Length of Membership: double (nullable = true)\n",
            " |-- Yearly Amount Spent: double (nullable = true)\n",
            " |-- features: vector (nullable = true)\n",
            "\n"
          ]
        }
      ]
    },
    {
      "cell_type": "markdown",
      "source": [
        "# The model is going to be trained only on the feature vector obtained from\n",
        "\n",
        "'Avg Session Length', 'Time on App', 'Time on Website'"
      ],
      "metadata": {
        "id": "KFQFpMuuZBHN"
      }
    },
    {
      "cell_type": "code",
      "source": [
        "finalDf = collated_data.select('features', 'Yearly Amount Spent')\n",
        "finalDf.show()"
      ],
      "metadata": {
        "colab": {
          "base_uri": "https://localhost:8080/"
        },
        "id": "AOmPrwGwYTEG",
        "outputId": "8eaeee47-1d2d-4b3e-acab-92723cc81f1c"
      },
      "execution_count": 17,
      "outputs": [
        {
          "output_type": "stream",
          "name": "stdout",
          "text": [
            "+--------------------+-------------------+\n",
            "|            features|Yearly Amount Spent|\n",
            "+--------------------+-------------------+\n",
            "|[34.4972677251122...|  587.9510539684005|\n",
            "|[31.9262720263601...|  392.2049334443264|\n",
            "|[33.0009147556426...| 487.54750486747207|\n",
            "|[34.3055566297555...|  581.8523440352177|\n",
            "|[33.3306725236463...|  599.4060920457634|\n",
            "|[33.8710378793419...|   637.102447915074|\n",
            "|[32.0215955013870...|  521.5721747578274|\n",
            "|[32.7391429383803...|  549.9041461052942|\n",
            "|[33.9877728956856...|  570.2004089636196|\n",
            "|[31.9365486184489...|  427.1993848953282|\n",
            "|[33.9925727749537...|  492.6060127179966|\n",
            "|[33.8793608248049...|  522.3374046069357|\n",
            "|[29.5324289670579...|  408.6403510726275|\n",
            "|[33.1903340437226...|  573.4158673313865|\n",
            "|[32.3879758531538...|  470.4527333009554|\n",
            "|[30.7377203726281...|  461.7807421962299|\n",
            "|[32.1253868972878...| 457.84769594494855|\n",
            "|[32.3388993230671...| 407.70454754954415|\n",
            "|[32.1878120459321...|  452.3156754800354|\n",
            "|[32.6178560628234...|   605.061038804892|\n",
            "+--------------------+-------------------+\n",
            "only showing top 20 rows\n",
            "\n"
          ]
        }
      ]
    },
    {
      "cell_type": "code",
      "source": [
        "train , test = finalDf.randomSplit([0.7,0.3])"
      ],
      "metadata": {
        "id": "2ntfyxP4Y1XJ"
      },
      "execution_count": 18,
      "outputs": []
    },
    {
      "cell_type": "code",
      "source": [
        "train.describe().show()"
      ],
      "metadata": {
        "colab": {
          "base_uri": "https://localhost:8080/"
        },
        "id": "vNBK6Q9EZhCP",
        "outputId": "73ff2cde-2f61-4bba-a250-2991226af3f3"
      },
      "execution_count": 19,
      "outputs": [
        {
          "output_type": "stream",
          "name": "stdout",
          "text": [
            "+-------+-------------------+\n",
            "|summary|Yearly Amount Spent|\n",
            "+-------+-------------------+\n",
            "|  count|                344|\n",
            "|   mean|  497.9956987946292|\n",
            "| stddev|  81.72085791852898|\n",
            "|    min| 256.67058229005585|\n",
            "|    max|  765.5184619388373|\n",
            "+-------+-------------------+\n",
            "\n"
          ]
        }
      ]
    },
    {
      "cell_type": "code",
      "source": [
        "test.describe().show()"
      ],
      "metadata": {
        "colab": {
          "base_uri": "https://localhost:8080/"
        },
        "id": "9R_wHwWUZoCd",
        "outputId": "3a79cb89-db33-4941-9ea2-2b2386d7b0d3"
      },
      "execution_count": 20,
      "outputs": [
        {
          "output_type": "stream",
          "name": "stdout",
          "text": [
            "+-------+-------------------+\n",
            "|summary|Yearly Amount Spent|\n",
            "+-------+-------------------+\n",
            "|  count|                156|\n",
            "|   mean|  502.2211457945061|\n",
            "| stddev|  73.90288954910967|\n",
            "|    min|  282.4712457199145|\n",
            "|    max|  712.3963268096637|\n",
            "+-------+-------------------+\n",
            "\n"
          ]
        }
      ]
    },
    {
      "cell_type": "code",
      "source": [
        "lr = LinearRegression(featuresCol='features' , labelCol='Yearly Amount Spent',\n",
        "                      predictionCol='prediction')"
      ],
      "metadata": {
        "id": "2o_oScHXRu2_"
      },
      "execution_count": 21,
      "outputs": []
    },
    {
      "cell_type": "code",
      "source": [
        "# Model training\n",
        "lrModel = lr.fit(train)"
      ],
      "metadata": {
        "id": "fQFSJ4LwRVVW"
      },
      "execution_count": 22,
      "outputs": []
    },
    {
      "cell_type": "code",
      "source": [
        "test_result = lrModel.evaluate(test)"
      ],
      "metadata": {
        "id": "XlASERARS0Ix"
      },
      "execution_count": 23,
      "outputs": []
    },
    {
      "cell_type": "code",
      "source": [
        "test_result.predictions['prediction']"
      ],
      "metadata": {
        "colab": {
          "base_uri": "https://localhost:8080/"
        },
        "id": "ItYIorebdLg3",
        "outputId": "c61ba6c7-f856-4731-f11d-1abc1023d11c"
      },
      "execution_count": 24,
      "outputs": [
        {
          "output_type": "execute_result",
          "data": {
            "text/plain": [
              "Column<'prediction'>"
            ]
          },
          "metadata": {},
          "execution_count": 24
        }
      ]
    },
    {
      "cell_type": "code",
      "source": [
        "test_result.residuals.show()"
      ],
      "metadata": {
        "colab": {
          "base_uri": "https://localhost:8080/"
        },
        "id": "09tBxGRuRX4R",
        "outputId": "b683a395-db98-4fdf-9b2a-c0b50f1b3470"
      },
      "execution_count": 25,
      "outputs": [
        {
          "output_type": "stream",
          "name": "stdout",
          "text": [
            "+-------------------+\n",
            "|          residuals|\n",
            "+-------------------+\n",
            "|  6.950524590950408|\n",
            "| -5.940180619784144|\n",
            "|  9.451900076143033|\n",
            "|  4.701223956252306|\n",
            "| -22.94826575759714|\n",
            "| -9.091920198679645|\n",
            "|  2.969937287296375|\n",
            "| 1.6150228037615193|\n",
            "|-10.845090748306689|\n",
            "| -7.479939283058684|\n",
            "|-18.589184332757895|\n",
            "|  16.95203006437464|\n",
            "| 16.866119072155072|\n",
            "|  5.860501921815228|\n",
            "|-27.871255772039945|\n",
            "| -9.788502137031742|\n",
            "| -6.249672284003793|\n",
            "| -13.31852261082281|\n",
            "| -4.549706418113146|\n",
            "|-3.6039781995688713|\n",
            "+-------------------+\n",
            "only showing top 20 rows\n",
            "\n"
          ]
        }
      ]
    },
    {
      "cell_type": "code",
      "source": [
        "training_summary = lrModel.summary"
      ],
      "metadata": {
        "id": "b7UmxcAySLiz"
      },
      "execution_count": 26,
      "outputs": []
    },
    {
      "cell_type": "code",
      "source": [
        "training_summary.meanAbsoluteError"
      ],
      "metadata": {
        "colab": {
          "base_uri": "https://localhost:8080/"
        },
        "id": "HldzY79ySROT",
        "outputId": "a129c747-137a-4a2c-d9d8-b1980deb49c4"
      },
      "execution_count": 27,
      "outputs": [
        {
          "output_type": "execute_result",
          "data": {
            "text/plain": [
              "7.712601648285891"
            ]
          },
          "metadata": {},
          "execution_count": 27
        }
      ]
    },
    {
      "cell_type": "code",
      "source": [
        "training_summary.rootMeanSquaredError"
      ],
      "metadata": {
        "colab": {
          "base_uri": "https://localhost:8080/"
        },
        "id": "ugWLoFT4SXSC",
        "outputId": "738783f1-5c6e-4b88-8191-fb4cadccc31f"
      },
      "execution_count": 28,
      "outputs": [
        {
          "output_type": "execute_result",
          "data": {
            "text/plain": [
              "9.70410502394"
            ]
          },
          "metadata": {},
          "execution_count": 28
        }
      ]
    },
    {
      "cell_type": "code",
      "source": [
        "training_summary.r2"
      ],
      "metadata": {
        "colab": {
          "base_uri": "https://localhost:8080/"
        },
        "id": "c2Ia4YZwSaV0",
        "outputId": "11befc1e-c6ff-4421-bacd-86898ce95443"
      },
      "execution_count": 29,
      "outputs": [
        {
          "output_type": "execute_result",
          "data": {
            "text/plain": [
              "0.9858580445706735"
            ]
          },
          "metadata": {},
          "execution_count": 29
        }
      ]
    },
    {
      "cell_type": "code",
      "source": [
        "finalDf.show(10)"
      ],
      "metadata": {
        "colab": {
          "base_uri": "https://localhost:8080/"
        },
        "id": "TRzuRxehSgby",
        "outputId": "c5cab0ae-2899-4f7d-f697-473f282a7edf"
      },
      "execution_count": 30,
      "outputs": [
        {
          "output_type": "stream",
          "name": "stdout",
          "text": [
            "+--------------------+-------------------+\n",
            "|            features|Yearly Amount Spent|\n",
            "+--------------------+-------------------+\n",
            "|[34.4972677251122...|  587.9510539684005|\n",
            "|[31.9262720263601...|  392.2049334443264|\n",
            "|[33.0009147556426...| 487.54750486747207|\n",
            "|[34.3055566297555...|  581.8523440352177|\n",
            "|[33.3306725236463...|  599.4060920457634|\n",
            "|[33.8710378793419...|   637.102447915074|\n",
            "|[32.0215955013870...|  521.5721747578274|\n",
            "|[32.7391429383803...|  549.9041461052942|\n",
            "|[33.9877728956856...|  570.2004089636196|\n",
            "|[31.9365486184489...|  427.1993848953282|\n",
            "+--------------------+-------------------+\n",
            "only showing top 10 rows\n",
            "\n"
          ]
        }
      ]
    },
    {
      "cell_type": "code",
      "source": [
        "import matplotlib.pyplot as plt\n",
        "import pandas as pd\n",
        "\n",
        "# Convert to Pandas DataFrame\n",
        "residuals_df = test_result.residuals\n",
        "type(residuals_df)"
      ],
      "metadata": {
        "id": "3AFLfs8eaaIK",
        "colab": {
          "base_uri": "https://localhost:8080/",
          "height": 187
        },
        "outputId": "dac3b117-967f-4582-86bb-8b205a919b76"
      },
      "execution_count": 31,
      "outputs": [
        {
          "output_type": "execute_result",
          "data": {
            "text/plain": [
              "pyspark.sql.dataframe.DataFrame"
            ],
            "text/html": [
              "<div style=\"max-width:800px; border: 1px solid var(--colab-border-color);\"><style>\n",
              "      pre.function-repr-contents {\n",
              "        overflow-x: auto;\n",
              "        padding: 8px 12px;\n",
              "        max-height: 500px;\n",
              "      }\n",
              "\n",
              "      pre.function-repr-contents.function-repr-contents-collapsed {\n",
              "        cursor: pointer;\n",
              "        max-height: 100px;\n",
              "      }\n",
              "    </style>\n",
              "    <pre style=\"white-space: initial; background:\n",
              "         var(--colab-secondary-surface-color); padding: 8px 12px;\n",
              "         border-bottom: 1px solid var(--colab-border-color);\"><b>pyspark.sql.dataframe.DataFrame</b><br/>def __init__(jdf: JavaObject, sql_ctx: Union[&#x27;SQLContext&#x27;, &#x27;SparkSession&#x27;])</pre><pre class=\"function-repr-contents function-repr-contents-collapsed\" style=\"\"><a class=\"filepath\" style=\"display:none\" href=\"#\">/usr/local/lib/python3.10/dist-packages/pyspark/sql/dataframe.py</a>A distributed collection of data grouped into named columns.\n",
              "\n",
              ".. versionadded:: 1.3.0\n",
              "\n",
              ".. versionchanged:: 3.4.0\n",
              "    Supports Spark Connect.\n",
              "\n",
              "Examples\n",
              "--------\n",
              "A :class:`DataFrame` is equivalent to a relational table in Spark SQL,\n",
              "and can be created using various functions in :class:`SparkSession`:\n",
              "\n",
              "&gt;&gt;&gt; people = spark.createDataFrame([\n",
              "...     {&quot;deptId&quot;: 1, &quot;age&quot;: 40, &quot;name&quot;: &quot;Hyukjin Kwon&quot;, &quot;gender&quot;: &quot;M&quot;, &quot;salary&quot;: 50},\n",
              "...     {&quot;deptId&quot;: 1, &quot;age&quot;: 50, &quot;name&quot;: &quot;Takuya Ueshin&quot;, &quot;gender&quot;: &quot;M&quot;, &quot;salary&quot;: 100},\n",
              "...     {&quot;deptId&quot;: 2, &quot;age&quot;: 60, &quot;name&quot;: &quot;Xinrong Meng&quot;, &quot;gender&quot;: &quot;F&quot;, &quot;salary&quot;: 150},\n",
              "...     {&quot;deptId&quot;: 3, &quot;age&quot;: 20, &quot;name&quot;: &quot;Haejoon Lee&quot;, &quot;gender&quot;: &quot;M&quot;, &quot;salary&quot;: 200}\n",
              "... ])\n",
              "\n",
              "Once created, it can be manipulated using the various domain-specific-language\n",
              "(DSL) functions defined in: :class:`DataFrame`, :class:`Column`.\n",
              "\n",
              "To select a column from the :class:`DataFrame`, use the apply method:\n",
              "\n",
              "&gt;&gt;&gt; age_col = people.age\n",
              "\n",
              "A more concrete example:\n",
              "\n",
              "&gt;&gt;&gt; # To create DataFrame using SparkSession\n",
              "... department = spark.createDataFrame([\n",
              "...     {&quot;id&quot;: 1, &quot;name&quot;: &quot;PySpark&quot;},\n",
              "...     {&quot;id&quot;: 2, &quot;name&quot;: &quot;ML&quot;},\n",
              "...     {&quot;id&quot;: 3, &quot;name&quot;: &quot;Spark SQL&quot;}\n",
              "... ])\n",
              "\n",
              "&gt;&gt;&gt; people.filter(people.age &gt; 30).join(\n",
              "...     department, people.deptId == department.id).groupBy(\n",
              "...     department.name, &quot;gender&quot;).agg({&quot;salary&quot;: &quot;avg&quot;, &quot;age&quot;: &quot;max&quot;}).show()\n",
              "+-------+------+-----------+--------+\n",
              "|   name|gender|avg(salary)|max(age)|\n",
              "+-------+------+-----------+--------+\n",
              "|     ML|     F|      150.0|      60|\n",
              "|PySpark|     M|       75.0|      50|\n",
              "+-------+------+-----------+--------+\n",
              "\n",
              "Notes\n",
              "-----\n",
              "A DataFrame should only be created as described above. It should not be directly\n",
              "created via using the constructor.</pre>\n",
              "      <script>\n",
              "      if (google.colab.kernel.accessAllowed && google.colab.files && google.colab.files.view) {\n",
              "        for (const element of document.querySelectorAll('.filepath')) {\n",
              "          element.style.display = 'block'\n",
              "          element.onclick = (event) => {\n",
              "            event.preventDefault();\n",
              "            event.stopPropagation();\n",
              "            google.colab.files.view(element.textContent, 80);\n",
              "          };\n",
              "        }\n",
              "      }\n",
              "      for (const element of document.querySelectorAll('.function-repr-contents')) {\n",
              "        element.onclick = (event) => {\n",
              "          event.preventDefault();\n",
              "          event.stopPropagation();\n",
              "          element.classList.toggle('function-repr-contents-collapsed');\n",
              "        };\n",
              "      }\n",
              "      </script>\n",
              "      </div>"
            ]
          },
          "metadata": {},
          "execution_count": 31
        }
      ]
    },
    {
      "cell_type": "code",
      "source": [
        "# Convert to Pandas DataFrame\n",
        "residual_df = residuals_df.toPandas()\n",
        "pandas_df = test_result.predictions.toPandas()"
      ],
      "metadata": {
        "id": "Tb2XltBbcuG4"
      },
      "execution_count": 32,
      "outputs": []
    },
    {
      "cell_type": "code",
      "source": [
        "# Plot residuals vs. predicted values\n",
        "plt.figure(figsize=(10, 6))\n",
        "plt.scatter(pandas_df['prediction'], residual_df['residuals'], color=\"blue\", edgecolor=\"k\", alpha=0.7)\n",
        "plt.axhline(y=0, color='r', linestyle='--')\n",
        "plt.xlabel(\"Predicted Values\")\n",
        "plt.ylabel(\"Residuals\")\n",
        "plt.title(\"Residuals vs. Predicted Values\")\n",
        "plt.show()\n"
      ],
      "metadata": {
        "colab": {
          "base_uri": "https://localhost:8080/",
          "height": 428
        },
        "id": "lKfMgYdpcTE3",
        "outputId": "e7172a21-a90b-4625-fafd-aed818884642"
      },
      "execution_count": 33,
      "outputs": [
        {
          "output_type": "display_data",
          "data": {
            "text/plain": [
              "<Figure size 1000x600 with 1 Axes>"
            ],
            "image/png": "[encoded data removed]"
          },
          "metadata": {}
        }
      ]
    },
    {
      "cell_type": "markdown",
      "source": [
        "A Model performace is done by evaluating the model using the metrics for the task we do during the modeling.\n",
        "\n",
        "`QUALITATIVE & QUANTITAIVE METRICS`\n",
        "\n",
        "QUALITATIVE METRICS:\n",
        "\n",
        "For regression the metric used are,\n",
        "RMSE - The metric that is in the scale of the values showing the difference between the predicted and the actual values\n",
        "R2 - Coefficient of Determination denotes the percentage to which the model can explain the variance of the data.\n",
        "These two metrics are important for Model Validation\n",
        "\n",
        "QUANTITAIVE METRICS:\n",
        "\n",
        "Observing the predicted values, checking the correlation of the indepedant and dependant values.\n"
      ],
      "metadata": {
        "id": "fpU_KT8Swk0i"
      }
    },
    {
      "cell_type": "code",
      "source": [
        "from pyspark.sql.functions import corr\n",
        "data.select(corr('Yearly Amount Spent', 'Length of Membership')).show()\n",
        ""
      ],
      "metadata": {
        "colab": {
          "base_uri": "https://localhost:8080/"
        },
        "id": "IWfNsf5IxJQX",
        "outputId": "96c30734-ec81-4324-c89b-f09ee2622e99"
      },
      "execution_count": 38,
      "outputs": [
        {
          "output_type": "stream",
          "name": "stdout",
          "text": [
            "+-----------------------------------------------+\n",
            "|corr(Yearly Amount Spent, Length of Membership)|\n",
            "+-----------------------------------------------+\n",
            "|                             0.8090835682475807|\n",
            "+-----------------------------------------------+\n",
            "\n"
          ]
        }
      ]
    },
    {
      "cell_type": "code",
      "source": [
        "from pyspark.sql.functions import corr\n",
        "data.select(corr('Yearly Amount Spent', 'Time on Website')).show()\n",
        "data.select(corr('Yearly Amount Spent', 'Time on App')).show()\n",
        "data.select(corr('Yearly Amount Spent', 'Avg Session Length')).show()\n",
        "\n",
        ""
      ],
      "metadata": {
        "colab": {
          "base_uri": "https://localhost:8080/"
        },
        "id": "9oc5eu-MzFh3",
        "outputId": "181e658d-f7c4-4982-a752-524847acc631"
      },
      "execution_count": 40,
      "outputs": [
        {
          "output_type": "stream",
          "name": "stdout",
          "text": [
            "+------------------------------------------+\n",
            "|corr(Yearly Amount Spent, Time on Website)|\n",
            "+------------------------------------------+\n",
            "|                      -0.00264084467215...|\n",
            "+------------------------------------------+\n",
            "\n",
            "+--------------------------------------+\n",
            "|corr(Yearly Amount Spent, Time on App)|\n",
            "+--------------------------------------+\n",
            "|                   0.49932777005345047|\n",
            "+--------------------------------------+\n",
            "\n",
            "+---------------------------------------------+\n",
            "|corr(Yearly Amount Spent, Avg Session Length)|\n",
            "+---------------------------------------------+\n",
            "|                          0.35508829470764314|\n",
            "+---------------------------------------------+\n",
            "\n"
          ]
        }
      ]
    }
  ]
}